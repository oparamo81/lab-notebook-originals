{
  "nbformat": 4,
  "nbformat_minor": 0,
  "metadata": {
    "colab": {
      "name": "Copy of Lab14_RockPaperScissors.ipynb",
      "provenance": [],
      "include_colab_link": true
    },
    "kernelspec": {
      "name": "python3",
      "display_name": "Python 3"
    },
    "language_info": {
      "name": "python"
    }
  },
  "cells": [
    {
      "cell_type": "markdown",
      "metadata": {
        "id": "view-in-github",
        "colab_type": "text"
      },
      "source": [
        "<a href=\"https://colab.research.google.com/github/oparamo81/lab-notebook-originals/blob/main/Copy_of_Lab14_RockPaperScissors.ipynb\" target=\"_parent\"><img src=\"https://colab.research.google.com/assets/colab-badge.svg\" alt=\"Open In Colab\"/></a>"
      ]
    },
    {
      "cell_type": "markdown",
      "metadata": {
        "id": "7RfRpU6VEvI6"
      },
      "source": [
        "# Rock Paper Scissors Game\n",
        "In this lab you will develop your own version of the classic game Rock Paper Scissors using classes and inheritance.\n",
        "\n",
        "First, let's recall the game. Each player can choose to play rock, paper, or scissors strategy. In the following cell we will create a parent class for all the strategies and child classes for each strategy in the game.\n",
        "\n",
        "**The rules are the following:**\n",
        "* Paper beats rock\n",
        "* Rock beats scissors\n",
        "* Scissors beats paper"
      ]
    },
    {
      "cell_type": "code",
      "metadata": {
        "id": "_xxdXaiWFWqy"
      },
      "source": [
        "# This is the parent class for all possible strategies\n",
        "class Strategy():\n",
        "    # The constructor initializes the strategy description\n",
        "    def __init__(self, desc):\n",
        "        self.__description = desc\n",
        "\n",
        "    # This method is used to describe what a strategy does      \n",
        "    def use(self):\n",
        "        return 'uses a generic strategy'\n",
        "    \n",
        "    # This method the name of the strategy class\n",
        "    def get_id(self):\n",
        "        return self.__class__.__name__\n",
        "\n",
        "    # This method is used to print a strategy and does not need to be\n",
        "    # changed\n",
        "    def __str__(self):\n",
        "        return self.__description\n",
        "    \n",
        "    # This method is use to describe what will happen when two\n",
        "    # strategies are played against each other. This returns one\n",
        "    # of three values:\n",
        "    # \n",
        "    # * Return -1 if other beats self\n",
        "    # * Return 1 if self beats other\n",
        "    # * Return 0 if it's a tie\n",
        "    # \n",
        "    def fight(self, other):\n",
        "        return 0\n",
        "\n",
        "\n",
        "# We have completed the RockStrategy class for you. Its parent is the\n",
        "# Strategy class. It overrides use and fight and uses its parent\n",
        "# constructor, getID, and __str__    \n",
        "class RockStrategy(Strategy):\n",
        "    def __init__(self):\n",
        "        super().__init__('Playing the rock')\n",
        "            \n",
        "    def use(self):\n",
        "        return 'Rock!!'\n",
        "    \n",
        "    def fight(self, other):\n",
        "        if other.get_id() == 'RockStrategy':\n",
        "            print('Tie')\n",
        "            return 0\n",
        "        elif other.get_id() == 'PaperStrategy':\n",
        "            print('Paper wins over rock')\n",
        "            return -1\n",
        "        elif other.get_id() == 'ScissorsStrategy':\n",
        "            print('Rock wins over scissors')\n",
        "            return 1\n",
        "\n",
        "\n",
        "# Now you will complete the Paper and Scissor Strategy classes below.\n",
        "class PaperStrategy(Strategy):\n",
        "    pass\n",
        "def _int_(self):  \n",
        "    super().__init__('Playing the paper') \n",
        "\n",
        "def use(self):\n",
        "        return 'Paper!!' \n",
        "  \n",
        "def fight(self, other):\n",
        "      if other.get_id() == 'RockStrategy':\n",
        "          print('Paper wins over rock')\n",
        "          return 1 \n",
        "\n",
        "      elif other.get_id() == 'PaperStrategy':\n",
        "          print('Tie')\n",
        "          return 0 \n",
        "        \n",
        "      elif other.get_id() == 'ScissorsStrategy':\n",
        "          print('Rock wins over scissors')\n",
        "          return -1\n",
        "\n",
        "\n",
        "class ScissorsStrategy(Strategy):\n",
        "    pass\n",
        "def _int_(self):  \n",
        "    super().__init__('Playing the scissor') \n",
        "\n",
        "def use(self):\n",
        "        return 'Scissor!!' \n",
        "  \n",
        "def fight(self, other):\n",
        "      if other.get_id() == 'RockStrategy':\n",
        "          print('Rock wins over scissor')\n",
        "          return -1\n",
        "\n",
        "      elif other.get_id() == 'PaperStrategy':\n",
        "          print('Scissor wins over paper')\n",
        "          return 1\n",
        "        \n",
        "      elif other.get_id() == 'ScissorsStrategy':\n",
        "          print('Tie')\n",
        "          return 0\n"
      ],
      "execution_count": 4,
      "outputs": []
    },
    {
      "cell_type": "code",
      "metadata": {
        "id": "L-Md1FOnpfA6",
        "colab": {
          "base_uri": "https://localhost:8080/"
        },
        "outputId": "839797f7-44c6-4e67-ac89-c72ff91558b4"
      },
      "source": [
        "# Test your code here: create some strategies, pit them against each other,\n",
        "# and verify that the results are what you expect:\n",
        "first_strategy = RockStrategy()\n",
        "second_strategy = RockStrategy()\n",
        "print(first_strategy.fight(second_strategy))"
      ],
      "execution_count": null,
      "outputs": [
        {
          "output_type": "stream",
          "name": "stdout",
          "text": [
            "Tie\n",
            "0\n"
          ]
        }
      ]
    },
    {
      "cell_type": "markdown",
      "metadata": {
        "id": "p-jOgnxeKJ0R"
      },
      "source": [
        "## The Players\n",
        "In the following cell, we create our players. There is a parent Player class, a Computer Player class, and a Human Player class. We have provided the base Player and the Computer Player classes. You will need to implement the Human Player class to prompt users for a strategy and return it."
      ]
    },
    {
      "cell_type": "code",
      "metadata": {
        "id": "kMO_WzbmKOIM"
      },
      "source": [
        "import random\n",
        "\n",
        "# This is the parent class for all players. \n",
        "class Player():\n",
        "    # The constructor initializes the strategy description\n",
        "    def __init__(self, name):\n",
        "        self.name = name\n",
        "\n",
        "        # Every player has all the strategies for the game in a dictionary\n",
        "        # The keys are the names of the strategies and the values are \n",
        "        # instances of the corresponding strategy objects.\n",
        "        self.strategies = {\n",
        "            'rock': RockStrategy(),\n",
        "            'paper': PaperStrategy(),\n",
        "            'scissors': ScissorsStrategy()\n",
        "        }\n",
        "\n",
        "        self.score = 0\n",
        "  \n",
        "    def __str__(self):\n",
        "        return 'Player: ' + self.name\n",
        "    \n",
        "    # This method should return a strategy for the player, but does nothing yet;\n",
        "    # the derived classes will override it.\n",
        "    def play_strategy(self):\n",
        "        return 0\n",
        "    \n",
        "    def update_score(self, own, other):\n",
        "        print(f'{self.name} says: \"{own.use()}\"')\n",
        "        self.score += own.fight(other)\n",
        "    \n",
        "    def get_score(self):\n",
        "      return self.score\n",
        "\n",
        "\n",
        "# We have completed the Computer Player for you.\n",
        "# The Computer Player plays a random strategy of rock, paper, or scissors.    \n",
        "class ComputerPlayer(Player):\n",
        "    def __init__(self, name='Computer Player'):\n",
        "        super().__init__(name)\n",
        "\n",
        "    def play_strategy(self):\n",
        "        strategy = random.randint(1, 3)\n",
        "        if strategy == 1:\n",
        "            return self.strategies['rock']\n",
        "        elif strategy == 2:\n",
        "            return self.strategies['paper']\n",
        "        else: # 3 is only value left\n",
        "            return self.strategies['scissors']\n",
        "\n",
        "\n",
        "# Now you will complete the HumanPlayer.\n",
        "#\n",
        "# The main override here is that the play_strategy method should\n",
        "# prompt the human user for a strategy---input is valid if it is\n",
        "# a key in the strategies dictionary. (note the key is lowercase!)\n",
        "class HumanPlayer(Player):\n",
        "    pass\n",
        "def __init__(self, name='Human Player'):\n",
        "        super().__init__(name)\n",
        "\n",
        "def play_strategy(self):\n",
        "        strategy = input('input your strategy')\n",
        "        if strategy == 'rock':\n",
        "            return self.strategies['rock']\n",
        "        elif strategy == 'paper':\n",
        "            return self.strategies['paper']\n",
        "        else: #last strategy == 'scissor':\n",
        "            return self.strategies ['scissors']"
      ],
      "execution_count": 2,
      "outputs": []
    },
    {
      "cell_type": "code",
      "metadata": {
        "colab": {
          "base_uri": "https://localhost:8080/"
        },
        "id": "lA5tgVGErUXZ",
        "outputId": "33d8eb0d-3a44-49fd-82be-f6d13e051542"
      },
      "source": [
        "# Test your code here---pit two players against each other and see what they do!\n",
        "robbie = ComputerPlayer('Robbie')\n",
        "hal = ComputerPlayer('Hal')\n",
        "robbie_strategy = robbie.play_strategy()\n",
        "hal_strategy = hal.play_strategy()\n",
        "\n",
        "print()\n",
        "print(str(robbie)+ ' ' + str(robbie_strategy))\n",
        "print(str(hal)+ ' ' + str(hal_strategy))\n",
        "print()\n",
        "\n",
        "robbie.update_score(robbie_strategy, hal_strategy)\n",
        "hal.update_score(hal_strategy, robbie_strategy)"
      ],
      "execution_count": null,
      "outputs": [
        {
          "output_type": "stream",
          "name": "stdout",
          "text": [
            "\n",
            "Player: Robbie Playing scissors\n",
            "Player: Hal Playing the rock\n",
            "\n",
            "Robbie says: \"Scissors!!\"\n",
            "Rock wins over scissors\n",
            "Hal says: \"Rock!!\"\n",
            "Rock wins over scissors\n"
          ]
        }
      ]
    },
    {
      "cell_type": "markdown",
      "metadata": {
        "id": "ZKpS8AcHOL-U"
      },
      "source": [
        "## Playing the Game\n",
        "We have written for you driver code to play five rounds of Rock Paper Scissors against a computer player. The winner of each round is given as well as of the entire game."
      ]
    },
    {
      "cell_type": "code",
      "metadata": {
        "id": "UWXv0SEYOhSo",
        "colab": {
          "base_uri": "https://localhost:8080/"
        },
        "outputId": "ace75256-216d-40c6-a69a-c4f90e6d99d0"
      },
      "source": [
        "# Instantiating a computer player\n",
        "def __init__(name='Computer Player'):\n",
        "    \n",
        "    walle = ComputerPlayer()\n",
        "\n",
        "# Instantiating a human player\n",
        "human_name = input('Please enter your name, human player: ')\n",
        "\n",
        "def __init__(name):\n",
        "    human_player = HumanPlayer(human_name)\n",
        "\n",
        "for i in range(5):\n",
        "\n",
        "  def __init__(name='walle play strategy'):\n",
        "    \n",
        "    computer_strategy = walle.play_strategy()\n",
        "    human_strategy = human_player.play_strategy()\n",
        "\n",
        "    print()\n",
        "    print(str(walle)+ ' ' + str(computer_strategy))\n",
        "    print(str(human_player)+ ' ' + str(human_strategy))\n",
        "    print()\n",
        "\n",
        "    walle.update_score(computer_strategy, human_strategy)\n",
        "    human_player.update_score(human_strategy, computer_strategy)\n",
        "\n",
        "    print()\n",
        "    print(str(walle)+ \"'s score: \" + str(walle.get_score()))\n",
        "    print(str(human_player)+ \"'s score: \" + str(human_player.get_score()))\n",
        "    print()\n",
        "\n",
        "def __init__(name='walle get score'):\n",
        "\n",
        "  walle_score == walle.get_score()\n",
        "\n",
        "def __init__(name='human player get score'):\n",
        "\n",
        "  human_score = human_player.get_score()\n",
        "\n",
        "  if walle_score == human_score:\n",
        "    print('Good match: Tie')\n",
        "  elif walle_score > human_score:\n",
        "    print('Computer wins!')\n",
        "  else:\n",
        "    print('You win!')"
      ],
      "execution_count": 50,
      "outputs": [
        {
          "name": "stdout",
          "output_type": "stream",
          "text": [
            "Please enter your name, human player: Bruce\n"
          ]
        }
      ]
    },
    {
      "cell_type": "markdown",
      "metadata": {
        "id": "eAh7pJrnXoHn"
      },
      "source": [
        "### Reflections\n",
        "Add a text cell below to answer the following questions:\n",
        "1. What do you feel more confident about after completing this lab?\n",
        "\n",
        "  What I feel more confident about is the use of def __init__ (inheritance) from Lab 13 (previous lab) after completing this lab. \n",
        "2. What do you feel you can use more help with after completing this lab?\n",
        "\n",
        "  What I feel that I can use more help with is receivng how many tie, wins or losts were in playing the game of RockPaperScissor. I have the human player name shown at the bottem of the coding but not the scores.  \n",
        "3. Do you have any constructive suggestions on how we can help you or improve this lab? \n",
        "\n",
        "  I would have to go to my professor's or TA's office hours or text/ talk to a classmate for clarification to have a better, well deserved grade. "
      ]
    },
    {
      "cell_type": "markdown",
      "metadata": {
        "id": "p3EQNIB2XpyP"
      },
      "source": [
        "### Save your work to GitHub\n",
        "Please save this notebook to your lab repository."
      ]
    }
  ]
}