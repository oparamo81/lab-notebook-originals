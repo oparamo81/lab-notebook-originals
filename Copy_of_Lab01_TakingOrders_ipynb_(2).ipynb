{
  "nbformat": 4,
  "nbformat_minor": 0,
  "metadata": {
    "kernelspec": {
      "display_name": "Python 3",
      "language": "python",
      "name": "python3"
    },
    "language_info": {
      "codemirror_mode": {
        "name": "ipython",
        "version": 3
      },
      "file_extension": ".py",
      "mimetype": "text/x-python",
      "name": "python",
      "nbconvert_exporter": "python",
      "pygments_lexer": "ipython3",
      "version": "3.7.3"
    },
    "colab": {
      "name": "Copy of Lab01_TakingOrders.ipynb (2)",
      "provenance": [],
      "collapsed_sections": [],
      "include_colab_link": true
    }
  },
  "cells": [
    {
      "cell_type": "markdown",
      "metadata": {
        "id": "view-in-github",
        "colab_type": "text"
      },
      "source": [
        "<a href=\"https://colab.research.google.com/github/oparamo81/lab-notebook-originals/blob/main/Copy_of_Lab01_TakingOrders_ipynb_(2).ipynb\" target=\"_parent\"><img src=\"https://colab.research.google.com/assets/colab-badge.svg\" alt=\"Open In Colab\"/></a>"
      ]
    },
    {
      "cell_type": "markdown",
      "metadata": {
        "id": "9aXfrLXg9seM"
      },
      "source": [
        "# Lab 01 Taking Orders\n",
        "In this lab you will practice using strings, variables, printing, and getting input from a user.\n",
        "\n",
        "## Greeting your customer\n",
        "In the following cell, print a statement to greet your customers and ask their names. Save their names in a variable, so you can use it later.\n",
        "\n"
      ]
    },
    {
      "cell_type": "code",
      "metadata": {
        "id": "BvyaiHRdlsXj",
        "colab": {
          "base_uri": "https://localhost:8080/"
        },
        "outputId": "977399dd-9718-4732-9561-dc54242aa702"
      },
      "source": [
        "# Greet your customer and ask for their name\n",
        "print(\"Hello customer, what's your name?\") \n",
        "\n",
        "# Save their name in a variable\n",
        "customer_name= 'Morty'"
      ],
      "execution_count": 5,
      "outputs": [
        {
          "output_type": "stream",
          "name": "stdout",
          "text": [
            "Hello customer, what's your name?\n"
          ]
        }
      ]
    },
    {
      "cell_type": "markdown",
      "metadata": {
        "id": "LCUmYgcomFGg"
      },
      "source": [
        "## Ask for their order by name\n",
        "In the following cell repeat the customer’s name and ask for their drink and meal order. Remember to save the drink as a variable and also save the meal as another variable.\n"
      ]
    },
    {
      "cell_type": "code",
      "metadata": {
        "id": "5DUZ_9hPmxCi",
        "colab": {
          "base_uri": "https://localhost:8080/"
        },
        "outputId": "bbdc0a9d-6fdb-47d9-fe74-13a9906ece93"
      },
      "source": [
        "# Use the customer's name to ask for drink order\n",
        "print (\"Morty, what would you like to drink?\")\n",
        "\n",
        "# Use the customer's name to ask for meal order\n",
        "print (\"Morty, what would you like to eat?\")\n",
        "\n"
      ],
      "execution_count": 16,
      "outputs": [
        {
          "output_type": "stream",
          "name": "stdout",
          "text": [
            "Morty, what would you like to drink?\n",
            "Morty, what would you like to eat?\n"
          ]
        }
      ]
    },
    {
      "cell_type": "markdown",
      "metadata": {
        "id": "4dODrt9WnO-v"
      },
      "source": [
        "## Repeat their order \n",
        "In the following cell, thank your customer by name and repeat their order to them. Make sure you use the correct variables when you repeat it."
      ]
    },
    {
      "cell_type": "code",
      "metadata": {
        "id": "ncutxJBKniMh",
        "colab": {
          "base_uri": "https://localhost:8080/"
        },
        "outputId": "efa05a25-8911-4f64-8d19-e3fa3e3afe69"
      },
      "source": [
        "# Change this code to make sure that you are using the correct customer name, drink, and meal.\n",
        "print(\"Morty:one pastrami with fries, one large Coke, and one Oreo milkshake.\")\n",
        "# Replace this comment with code to thank customer by name for their order\n",
        "print('Thank you, Morty.')\n",
        "# e.g. Thank you, Lion.\n",
        "print('Please let me repeat your order for you.')\n",
        "# Replace this comment with code to repeat the drink and the meal\n",
        "print(\"Your order are: one pastrami with fries, one large Coke, and one Oreo milkshake.\")\n",
        "# e.g. I see that you have ordered a soda and pizza."
      ],
      "execution_count": 22,
      "outputs": [
        {
          "output_type": "stream",
          "name": "stdout",
          "text": [
            "Morty:one pastrami with fries, one large Coke, and one Oreo milkshake.\n",
            "Thank you, Morty.\n",
            "Please let me repeat your order for you.\n",
            "Your order are: one pastrami with fries, one large Coke, and one Oreo milkshake.\n"
          ]
        }
      ]
    },
    {
      "cell_type": "markdown",
      "metadata": {
        "id": "O8oF7J1OmCnQ"
      },
      "source": [
        "## Challenge—figuring out your bill!\n",
        "Since we don’t have a menu in this lab notebook, we don’t know what our meals should cost. We’ll trust the restaurant to tell you how much your total bill is and the percentage of your original bill that will comprise the tip. Tax is always 10% of the original bill. It randomly chooses your total bill and tip percentage for you. Can you use this information to find out what your original bill costs before the tip?"
      ]
    },
    {
      "cell_type": "code",
      "metadata": {
        "id": "mCuyN8JZqPhI",
        "colab": {
          "base_uri": "https://localhost:8080/"
        },
        "outputId": "9f87bc32-9031-461e-d981-454499db045f"
      },
      "source": [
        "# The following code is given to you and does not need to be modified\n",
        "import random\n",
        "\n",
        "# We select a random float between 10 and 30 for the total bill\n",
        "total_bill = round(random.uniform(10, 30), 2)\n",
        "\n",
        "# We select a random integer tip percentage amount between 10 and 25 \n",
        "tip = random.randint(10, 25)\n",
        "print('Thank you. Your total bill is $' + str(total_bill) + '. Your tip percentage is ' + str(tip) +'%. Tax is 10%.')"
      ],
      "execution_count": 7,
      "outputs": [
        {
          "output_type": "stream",
          "name": "stdout",
          "text": [
            "Thank you. Your total bill is $21.84. Your tip percentage is 14%. Tax is 10%.\n"
          ]
        }
      ]
    },
    {
      "cell_type": "markdown",
      "metadata": {
        "id": "OIWaikgzrzdR"
      },
      "source": [
        "Edit the following cell to figure out what your original bill was. We print it, but right now we always print the same value for the original bill"
      ]
    },
    {
      "cell_type": "code",
      "metadata": {
        "id": "TM3VQOMVtiU4",
        "colab": {
          "base_uri": "https://localhost:8080/"
        },
        "outputId": "79299ec2-18ec-446e-ed2e-6d961ec7d2a4"
      },
      "source": [
        "# Change this code below to figure out your original bill. Right now, it is always 10.\n",
        "original_bill = (total_bill*1.00)-(tip/100)*(total_bill)\n",
        "\n",
        "# No need to change below\n",
        "print('Your original bill is $' + str(original_bill) + '.')"
      ],
      "execution_count": 24,
      "outputs": [
        {
          "output_type": "stream",
          "name": "stdout",
          "text": [
            "Your original bill is $18.7824.\n"
          ]
        }
      ]
    },
    {
      "cell_type": "markdown",
      "metadata": {
        "id": "dKL0LYd-E4JB"
      },
      "source": [
        "### Reflections\n",
        "Add a text cell below to answer the following questions:\n",
        "1. What do you feel more confident about after completing this lab?\n",
        "\n",
        "  I feel a bit more confident about using print and string. \n",
        "2. What do you feel you can use more help with after completing this lab?\n",
        "\n",
        "  I feel that I need to know the differences of not capitlizing print, type, and many others because I was stuck for quite awhile till I figure that print capitalized and lower cased are two different meaning for python. \n",
        "3. Do you have any constructive suggestions on how we can help you or improve this lab?\n",
        "  \n",
        "  I would have to say maybe going to office hours, paying extra close attention, or asking one of my classmate to clarify my situation. "
      ]
    },
    {
      "cell_type": "markdown",
      "metadata": {
        "id": "gB1aHDpyFYey"
      },
      "source": [
        "### Save your work to GitHub\n",
        "Please save this notebook to your lab repository."
      ]
    }
  ]
}