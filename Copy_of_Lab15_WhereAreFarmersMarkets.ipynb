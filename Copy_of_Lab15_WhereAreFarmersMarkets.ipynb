{
  "nbformat": 4,
  "nbformat_minor": 0,
  "metadata": {
    "colab": {
      "name": "Copy of Lab15_WhereAreFarmersMarkets",
      "provenance": [],
      "collapsed_sections": [],
      "include_colab_link": true
    },
    "kernelspec": {
      "name": "python3",
      "display_name": "Python 3"
    }
  },
  "cells": [
    {
      "cell_type": "markdown",
      "metadata": {
        "id": "view-in-github",
        "colab_type": "text"
      },
      "source": [
        "<a href=\"https://colab.research.google.com/github/oparamo81/lab-notebook-originals/blob/main/Copy_of_Lab15_WhereAreFarmersMarkets.ipynb\" target=\"_parent\"><img src=\"https://colab.research.google.com/assets/colab-badge.svg\" alt=\"Open In Colab\"/></a>"
      ]
    },
    {
      "cell_type": "markdown",
      "metadata": {
        "id": "S-2goBW2SF1v"
      },
      "source": [
        "# Making your own histogram class\n",
        "While `numpy` and `pandas` will certainly make histograms for you, let's try to make our own from real data to help review classes and dictionaries. We'll use `numpy` to help us plot them. We'll also gain a much greater appreciation for what these data science modules do for us. First, let's import the `datascience`, `numpy`, and `matplotlib` modules to use."
      ]
    },
    {
      "cell_type": "code",
      "metadata": {
        "id": "ZzKTbg9yFE7M",
        "colab": {
          "base_uri": "https://localhost:8080/"
        },
        "outputId": "9358df55-8b66-4d93-c864-08c99030760a"
      },
      "source": [
        "from datascience import *\n",
        "import numpy as np\n",
        "\n",
        "%matplotlib inline\n",
        "import matplotlib.pyplot as plt\n",
        "plt.style.use('seaborn-whitegrid')"
      ],
      "execution_count": 1,
      "outputs": [
        {
          "output_type": "stream",
          "name": "stderr",
          "text": [
            "/usr/local/lib/python3.7/dist-packages/datascience/tables.py:17: MatplotlibDeprecationWarning: The 'warn' parameter of use() is deprecated since Matplotlib 3.1 and will be removed in 3.3.  If any parameter follows 'warn', they should be pass as keyword, not positionally.\n",
            "  matplotlib.use('agg', warn=False)\n",
            "/usr/local/lib/python3.7/dist-packages/datascience/util.py:10: MatplotlibDeprecationWarning: The 'warn' parameter of use() is deprecated since Matplotlib 3.1 and will be removed in 3.3.  If any parameter follows 'warn', they should be pass as keyword, not positionally.\n",
            "  matplotlib.use('agg', warn=False)\n"
          ]
        }
      ]
    },
    {
      "cell_type": "markdown",
      "metadata": {
        "id": "DZuccFyQOyd1"
      },
      "source": [
        "## Reading in Farmers Markets Table\n",
        "\n",
        "The table `farmers_markets.csv` contains data on farmers' markets in the United States  (data collected [by the USDA](https://apps.ams.usda.gov/FarmersMarketsExport/ExcelExport.aspx)).  Each row represents one such market.\n",
        "\n",
        "Run the next cell to load the `farmers_markets` table."
      ]
    },
    {
      "cell_type": "code",
      "metadata": {
        "id": "gBjBA8gEO1F3",
        "colab": {
          "base_uri": "https://localhost:8080/",
          "height": 301
        },
        "outputId": "7399e22e-9585-43a1-e8b4-cd60d86fef24"
      },
      "source": [
        "source = 'https://raw.githubusercontent.com/data-8/materials-fa19/master/materials/fa19/lab/lab02/farmers_markets.csv'\n",
        "farmers_markets = Table.read_table(source)\n",
        "\n",
        "# Let's show some information about the data we just loaded.\n",
        "print(\"This table has \", farmers_markets.num_rows, \"rows. One for each farmer's market\")\n",
        "print(\"This table has \", farmers_markets.num_columns, \"columns\")\n",
        "\n",
        "# We'll only use the first 9, so we'll select them\n",
        "farmers_markets = farmers_markets.select(range(9))\n",
        "print(\"Here are the column labels: \\n \", farmers_markets.labels)\n",
        "\n",
        "# The column label FMID stands for Farmer's Market ID\n",
        "# The column x stands for longitude\n",
        "# The column y stands for latitude\n",
        "# Remember you can view part of the table by using show(number of rows)\n",
        "farmers_markets.show(5)"
      ],
      "execution_count": 2,
      "outputs": [
        {
          "output_type": "stream",
          "name": "stdout",
          "text": [
            "This table has  8546 rows. One for each farmer's market\n",
            "This table has  59 columns\n",
            "Here are the column labels: \n",
            "  ('FMID', 'MarketName', 'street', 'city', 'County', 'State', 'zip', 'x', 'y')\n"
          ]
        },
        {
          "output_type": "display_data",
          "data": {
            "text/html": [
              "<table border=\"1\" class=\"dataframe\">\n",
              "    <thead>\n",
              "        <tr>\n",
              "            <th>FMID</th> <th>MarketName</th> <th>street</th> <th>city</th> <th>County</th> <th>State</th> <th>zip</th> <th>x</th> <th>y</th>\n",
              "        </tr>\n",
              "    </thead>\n",
              "    <tbody>\n",
              "        <tr>\n",
              "            <td>1012063</td> <td> Caledonia Farmers Market Association - Danville</td> <td>nan                   </td> <td>Danville </td> <td>Caledonia</td> <td>Vermont       </td> <td>05828</td> <td>-72.1403</td> <td>44.411 </td>\n",
              "        </tr>\n",
              "        <tr>\n",
              "            <td>1011871</td> <td> Stearns Homestead Farmers' Market              </td> <td>6975 Ridge Road       </td> <td>Parma    </td> <td>Cuyahoga </td> <td>Ohio          </td> <td>44130</td> <td>-81.7286</td> <td>41.3751</td>\n",
              "        </tr>\n",
              "        <tr>\n",
              "            <td>1011878</td> <td>100 Mile Market                                 </td> <td>507 Harrison St       </td> <td>Kalamazoo</td> <td>Kalamazoo</td> <td>Michigan      </td> <td>49007</td> <td>-85.5749</td> <td>42.296 </td>\n",
              "        </tr>\n",
              "        <tr>\n",
              "            <td>1009364</td> <td>106 S. Main Street Farmers Market               </td> <td>106 S. Main Street    </td> <td>Six Mile </td> <td>nan      </td> <td>South Carolina</td> <td>29682</td> <td>-82.8187</td> <td>34.8042</td>\n",
              "        </tr>\n",
              "        <tr>\n",
              "            <td>1010691</td> <td>10th Steet Community Farmers Market             </td> <td>10th Street and Poplar</td> <td>Lamar    </td> <td>Barton   </td> <td>Missouri      </td> <td>64759</td> <td>-94.2746</td> <td>37.4956</td>\n",
              "        </tr>\n",
              "    </tbody>\n",
              "</table>\n",
              "<p>... (8541 rows omitted)</p>"
            ],
            "text/plain": [
              "<IPython.core.display.HTML object>"
            ]
          },
          "metadata": {}
        }
      ]
    },
    {
      "cell_type": "markdown",
      "metadata": {
        "id": "VHabjGhLQvam"
      },
      "source": [
        "To get all the farmer's markets in Los Angeles we can use `where`. First we will get the markets in California and then those in Los Angeles."
      ]
    },
    {
      "cell_type": "code",
      "metadata": {
        "id": "-PrvOEaKQv27",
        "colab": {
          "base_uri": "https://localhost:8080/",
          "height": 388
        },
        "outputId": "8d475cd6-25d7-49f8-e6f2-e092d69c32ec"
      },
      "source": [
        "california_farmers_markets = farmers_markets.where('State', are.equal_to('California'))\n",
        "la_markets = california_farmers_markets.where('city', are.equal_to('Los Angeles'))\n",
        "la_markets"
      ],
      "execution_count": 42,
      "outputs": [
        {
          "output_type": "execute_result",
          "data": {
            "text/html": [
              "<table border=\"1\" class=\"dataframe\">\n",
              "    <thead>\n",
              "        <tr>\n",
              "            <th>FMID</th> <th>MarketName</th> <th>street</th> <th>city</th> <th>County</th> <th>State</th> <th>zip</th> <th>x</th> <th>y</th>\n",
              "        </tr>\n",
              "    </thead>\n",
              "    <tbody>\n",
              "        <tr>\n",
              "            <td>1001714</td> <td>Crenshaw Farmers' Market                  </td> <td>3650 Crenshaw Blvd.                      </td> <td>Los Angeles</td> <td>Los Angeles</td> <td>California</td> <td>90008</td> <td>-118.335</td> <td>34.0108</td>\n",
              "        </tr>\n",
              "        <tr>\n",
              "            <td>1006034</td> <td>Eagle Rock Farmers Market                 </td> <td>2100 Merton Ave.                         </td> <td>Los Angeles</td> <td>Los Angeles</td> <td>California</td> <td>90065</td> <td>-118.214</td> <td>34.1391</td>\n",
              "        </tr>\n",
              "        <tr>\n",
              "            <td>1010734</td> <td>East Hollywood Certified Farmers' Market  </td> <td>5448 Hollywood Boulevard                 </td> <td>Los Angeles</td> <td>Los Angeles</td> <td>California</td> <td>90027</td> <td>-118.309</td> <td>34.1015</td>\n",
              "        </tr>\n",
              "        <tr>\n",
              "            <td>1002993</td> <td>East Los Angeles Farmers Market           </td> <td>4801 East 3rd Street                     </td> <td>Los Angeles</td> <td>Los Angeles</td> <td>California</td> <td>90022</td> <td>-118.161</td> <td>34.0335</td>\n",
              "        </tr>\n",
              "        <tr>\n",
              "            <td>1000024</td> <td>El Segundo Farmers Market                 </td> <td>Grand & Eucalyptus                       </td> <td>Los Angeles</td> <td>Los Angeles</td> <td>California</td> <td>90045</td> <td>-118.405</td> <td>33.9208</td>\n",
              "        </tr>\n",
              "        <tr>\n",
              "            <td>1004328</td> <td>Gardena Saturday Farmers Market           </td> <td>13000 Van Ness                           </td> <td>Los Angeles</td> <td>Los Angeles</td> <td>California</td> <td>90047</td> <td>-118.318</td> <td>33.931 </td>\n",
              "        </tr>\n",
              "        <tr>\n",
              "            <td>1004329</td> <td>Gardena Wednesday Farmers Market          </td> <td>1670 West 162 at La Salle                </td> <td>Los Angeles</td> <td>Los Angeles</td> <td>California</td> <td>90047</td> <td>-118.306</td> <td>33.8841</td>\n",
              "        </tr>\n",
              "        <tr>\n",
              "            <td>1009018</td> <td>Green Believers Pop Up Market             </td> <td>3320 S. Central Avenue                   </td> <td>Los Angeles</td> <td>Los Angeles</td> <td>California</td> <td>nan  </td> <td>-118.256</td> <td>34.0131</td>\n",
              "        </tr>\n",
              "        <tr>\n",
              "            <td>1011278</td> <td>Historic Downtown Certified Farmers Market</td> <td>W 5th St. between Spring St. and Broadway</td> <td>Los Angeles</td> <td>Los Angeles</td> <td>California</td> <td>90014</td> <td>-118.25 </td> <td>34.0477</td>\n",
              "        </tr>\n",
              "        <tr>\n",
              "            <td>1000052</td> <td>Hollywood Farmers' Market                 </td> <td>1500 Ivar Ave. & Selma Ave               </td> <td>Los Angeles</td> <td>Los Angeles</td> <td>California</td> <td>90028</td> <td>-118.328</td> <td>34.0999</td>\n",
              "        </tr>\n",
              "    </tbody>\n",
              "</table>\n",
              "<p>... (18 rows omitted)</p>"
            ],
            "text/plain": [
              "FMID    | MarketName                                 | street                                    | city        | County      | State      | zip   | x        | y\n",
              "1001714 | Crenshaw Farmers' Market                   | 3650 Crenshaw Blvd.                       | Los Angeles | Los Angeles | California | 90008 | -118.335 | 34.0108\n",
              "1006034 | Eagle Rock Farmers Market                  | 2100 Merton Ave.                          | Los Angeles | Los Angeles | California | 90065 | -118.214 | 34.1391\n",
              "1010734 | East Hollywood Certified Farmers' Market   | 5448 Hollywood Boulevard                  | Los Angeles | Los Angeles | California | 90027 | -118.309 | 34.1015\n",
              "1002993 | East Los Angeles Farmers Market            | 4801 East 3rd Street                      | Los Angeles | Los Angeles | California | 90022 | -118.161 | 34.0335\n",
              "1000024 | El Segundo Farmers Market                  | Grand & Eucalyptus                        | Los Angeles | Los Angeles | California | 90045 | -118.405 | 33.9208\n",
              "1004328 | Gardena Saturday Farmers Market            | 13000 Van Ness                            | Los Angeles | Los Angeles | California | 90047 | -118.318 | 33.931\n",
              "1004329 | Gardena Wednesday Farmers Market           | 1670 West 162 at La Salle                 | Los Angeles | Los Angeles | California | 90047 | -118.306 | 33.8841\n",
              "1009018 | Green Believers Pop Up Market              | 3320 S. Central Avenue                    | Los Angeles | Los Angeles | California | nan   | -118.256 | 34.0131\n",
              "1011278 | Historic Downtown Certified Farmers Market | W 5th St. between Spring St. and Broadway | Los Angeles | Los Angeles | California | 90014 | -118.25  | 34.0477\n",
              "1000052 | Hollywood Farmers' Market                  | 1500 Ivar Ave. & Selma Ave                | Los Angeles | Los Angeles | California | 90028 | -118.328 | 34.0999\n",
              "... (18 rows omitted)"
            ]
          },
          "metadata": {},
          "execution_count": 42
        }
      ]
    },
    {
      "cell_type": "markdown",
      "metadata": {
        "id": "Lu_o0_cQYlJd"
      },
      "source": [
        "## Where are all the Markets?\n",
        "So far, so good, we know where markets are in Los Angeles, but how can we figure out where the most farmers' markets are in the US. It's probably California and possibly even Los Angeles, but how can we use this data to show this?\n",
        "\n",
        "Let's draw a histogram of all the longitudes (x column) followed by a histogram for the latitudes (y column)."
      ]
    },
    {
      "cell_type": "code",
      "metadata": {
        "id": "ESWdt4PyKOFw",
        "colab": {
          "base_uri": "https://localhost:8080/",
          "height": 545
        },
        "outputId": "60cab52a-0586-4202-e8e2-02be03009f5e"
      },
      "source": [
        "farmers_markets.select('x').hist()\n",
        "farmers_markets.select('y').hist()"
      ],
      "execution_count": 43,
      "outputs": [
        {
          "output_type": "display_data",
          "data": {
            "image/png": "[encoded data removed]",
            "text/plain": [
              "<Figure size 432x288 with 1 Axes>"
            ]
          },
          "metadata": {
            "needs_background": "light"
          }
        },
        {
          "output_type": "display_data",
          "data": {
            "image/png": "[encoded data removed]",
            "text/plain": [
              "<Figure size 432x288 with 1 Axes>"
            ]
          },
          "metadata": {
            "needs_background": "light"
          }
        }
      ]
    },
    {
      "cell_type": "markdown",
      "metadata": {
        "id": "IvR17k9AbCr7"
      },
      "source": [
        "This gives us some indication of the physical locations of the markets, but what if we want to know about states? That is not a numeric value in that column, so we get an error in the following cell."
      ]
    },
    {
      "cell_type": "code",
      "metadata": {
        "id": "ZLJcIK-Pprbd",
        "colab": {
          "base_uri": "https://localhost:8080/",
          "height": 316
        },
        "outputId": "32f5c6f6-3942-4c98-df72-5ca125ac0954"
      },
      "source": [
        "# THIS CELL WILL GIVE AN ERROR WHEN YOU RUN IT\n",
        "farmers_markets.select('State').hist()"
      ],
      "execution_count": 44,
      "outputs": [
        {
          "output_type": "error",
          "ename": "ValueError",
          "evalue": "ignored",
          "traceback": [
            "\u001b[0;31m---------------------------------------------------------------------------\u001b[0m",
            "\u001b[0;31mValueError\u001b[0m                                Traceback (most recent call last)",
            "\u001b[0;32m<ipython-input-44-7bc5d6bce8c3>\u001b[0m in \u001b[0;36m<module>\u001b[0;34m()\u001b[0m\n\u001b[1;32m      1\u001b[0m \u001b[0;31m# THIS CELL WILL GIVE AN ERROR WHEN YOU RUN IT\u001b[0m\u001b[0;34m\u001b[0m\u001b[0;34m\u001b[0m\u001b[0;34m\u001b[0m\u001b[0m\n\u001b[0;32m----> 2\u001b[0;31m \u001b[0mfarmers_markets\u001b[0m\u001b[0;34m.\u001b[0m\u001b[0mselect\u001b[0m\u001b[0;34m(\u001b[0m\u001b[0;34m'State'\u001b[0m\u001b[0;34m)\u001b[0m\u001b[0;34m.\u001b[0m\u001b[0mhist\u001b[0m\u001b[0;34m(\u001b[0m\u001b[0;34m)\u001b[0m\u001b[0;34m\u001b[0m\u001b[0;34m\u001b[0m\u001b[0m\n\u001b[0m",
            "\u001b[0;32m/usr/local/lib/python3.7/dist-packages/datascience/tables.py\u001b[0m in \u001b[0;36mhist\u001b[0;34m(self, overlay, bins, bin_column, unit, counts, group, side_by_side, width, height, *columns, **vargs)\u001b[0m\n\u001b[1;32m   2465\u001b[0m                 raise ValueError(\"The column '{0}' contains non-numerical \"\n\u001b[1;32m   2466\u001b[0m                     \u001b[0;34m\"values. A histogram cannot be drawn for this table.\"\u001b[0m\u001b[0;34m\u001b[0m\u001b[0;34m\u001b[0m\u001b[0m\n\u001b[0;32m-> 2467\u001b[0;31m                     .format(col))\n\u001b[0m\u001b[1;32m   2468\u001b[0m \u001b[0;34m\u001b[0m\u001b[0m\n\u001b[1;32m   2469\u001b[0m \u001b[0;34m\u001b[0m\u001b[0m\n",
            "\u001b[0;31mValueError\u001b[0m: The column 'State' contains non-numerical values. A histogram cannot be drawn for this table."
          ]
        }
      ]
    },
    {
      "cell_type": "markdown",
      "metadata": {
        "id": "AmfbeX6Tb95T"
      },
      "source": [
        "# Creating Your Histogram Class\n",
        "At the end of this lab, we'll show you how to do this very quickly using aggregates in the datascience module, but we want to give you practice writing your own histogram class."
      ]
    },
    {
      "cell_type": "code",
      "metadata": {
        "id": "GHMNEKSWctdu"
      },
      "source": [
        "class Histogram():\n",
        "    def __init__(self):\n",
        "        self.dictionary = {}\n",
        "        self.labels = []\n",
        "        self.frequency = []\n",
        "\n",
        "    # TODO: Given a list of non_numeric values\n",
        "    # update the histogram's dictionary where the keys are all the unique values\n",
        "    # in the non_numeric values and the corresponding values is\n",
        "    # the number of times it appears\n",
        "    #\n",
        "    # Remember that, whenever you see a new key (i.e., one that isn't in the\n",
        "    # dictionary yet), its initial value is 1 because seeing it for the first\n",
        "    # time means it appears at least once in the list\n",
        "    #\n",
        "    # For example, given the list [\"California\", \"Michigan\", \"Maine\", \"California\"]\n",
        "    # The dictionary will have a key for each state. Michigan and Maine would\n",
        "    # have value 1 and California would have value 2.\n",
        "    def update_dictionary(self, non_numeric):\n",
        "        for state in non_numeric:\n",
        "          if state not in self.dictionary:\n",
        "            self.dictionary[state] = 1 \n",
        "          if state in self.dictionary:\n",
        "            self.dictionary[state] +=1\n",
        "          #if you have never seen the states set it to 1 in self.dictionary\n",
        "          #if you _have_seen the state, add 1 to its entry \n",
        "    \n",
        "    # TODO: Set the histogram's self.labels to its dictionary's keys\n",
        "    def update_labels(self):\n",
        "       self.labels == self.dictionary.keys()\n",
        "\n",
        "    # TODO: Set the histogram's self.frequency to its dictionary's values\n",
        "    def update_frequency(self):\n",
        "        self.frequency == self.dictionary.values()\n",
        "\n",
        "    # This method can be used to plot the histogram\n",
        "    # You do not need to change it\n",
        "    def draw(self):\n",
        "        _ = plt.hist(self.frequency, bins='auto')\n",
        "        plt.xlabel('count (i.e., number of farmers markets in the state)')\n",
        "        plt.ylabel('Number of states with this many markets')\n",
        "        plt.show()\n",
        "\n",
        "    # TODO: Return the key from the dictionary that has the greatest value\n",
        "    def get_mostfrequent(self):\n",
        "        max_state = ''\n",
        "        max_count = 0\n",
        "        for state in self.dictionary:\n",
        "            count  = self.dictionary[state]\n",
        "            #if the count > max_count...remember the count and state\n",
        "        return max_state "
      ],
      "execution_count": 39,
      "outputs": []
    },
    {
      "cell_type": "markdown",
      "metadata": {
        "id": "lYLWBSSLgG5B"
      },
      "source": [
        "# Creating Histogram of Market States\n",
        "Now you will create your own histogram of farmers markets in each state. First instantiate a histogram object. Then consider what data you need to pass from the farmers' markets table to update the dictionary."
      ]
    },
    {
      "cell_type": "code",
      "metadata": {
        "id": "C4UUopzjgjpZ",
        "colab": {
          "base_uri": "https://localhost:8080/",
          "height": 293
        },
        "outputId": "4a45e32b-81a7-4654-aad8-a4482480e941"
      },
      "source": [
        "# TODO: Test your code!\n",
        "# 1. Instantiate a Histogram object\n",
        "histogram = Histogram()\n",
        "#\n",
        "# 2. Update its dictionary by passing the State column from the \n",
        "#    farmer's market table i.e. farmers_markets.column('State')\n",
        "\n",
        "# print(farmers_markets.column('State'))\n",
        "histogram.update_dictionary( farmers_markets.column('State'))\n",
        "#\n",
        "# 3. Update the frequency of your Histogram object\n",
        "histogram.update_frequency()\n",
        "#\n",
        "# 4. Update the labels of your Histogram object\n",
        "histogram.update_labels()\n",
        "#\n",
        "# 5. Draw your Histogram object\n",
        "histogram.draw()\n",
        "#\n",
        "# 6. Print out the state with the most farmers' markets using\n",
        "#    the get_mostfrequent method of your Histogram object\n",
        "print(histogram.get_mostfrequent())"
      ],
      "execution_count": 45,
      "outputs": [
        {
          "output_type": "display_data",
          "data": {
            "image/png": "[encoded data removed]",
            "text/plain": [
              "<Figure size 432x288 with 1 Axes>"
            ]
          },
          "metadata": {
            "needs_background": "light"
          }
        },
        {
          "output_type": "stream",
          "name": "stdout",
          "text": [
            "\n"
          ]
        }
      ]
    },
    {
      "cell_type": "markdown",
      "metadata": {
        "id": "2NrrZKPGoWT7"
      },
      "source": [
        "## The Beauty of the Data Science Modules\n",
        "Everything we just did is just a line or two of Python using aggregation using `group`. Please run this cell to see the exact same result."
      ]
    },
    {
      "cell_type": "code",
      "metadata": {
        "id": "rzWE8e-Am4A1",
        "colab": {
          "base_uri": "https://localhost:8080/",
          "height": 652
        },
        "outputId": "12c9be32-b77f-4baf-f485-36e03e8986e9"
      },
      "source": [
        "# Group the farmers market table by state and create a histogram of the counts\n",
        "# per state\n",
        "farmers_markets.group('State').select('count').hist()\n",
        "\n",
        "# Show the farmers market table by state with counts in descending order\n",
        "# of counts\n",
        "farmers_markets.group('State').sort('count', descending=True)"
      ],
      "execution_count": 16,
      "outputs": [
        {
          "output_type": "execute_result",
          "data": {
            "text/html": [
              "<table border=\"1\" class=\"dataframe\">\n",
              "    <thead>\n",
              "        <tr>\n",
              "            <th>State</th> <th>count</th>\n",
              "        </tr>\n",
              "    </thead>\n",
              "    <tbody>\n",
              "        <tr>\n",
              "            <td>California   </td> <td>755  </td>\n",
              "        </tr>\n",
              "        <tr>\n",
              "            <td>New York     </td> <td>672  </td>\n",
              "        </tr>\n",
              "        <tr>\n",
              "            <td>Michigan     </td> <td>340  </td>\n",
              "        </tr>\n",
              "        <tr>\n",
              "            <td>Ohio         </td> <td>326  </td>\n",
              "        </tr>\n",
              "        <tr>\n",
              "            <td>Illinois     </td> <td>323  </td>\n",
              "        </tr>\n",
              "        <tr>\n",
              "            <td>Massachusetts</td> <td>316  </td>\n",
              "        </tr>\n",
              "        <tr>\n",
              "            <td>Wisconsin    </td> <td>307  </td>\n",
              "        </tr>\n",
              "        <tr>\n",
              "            <td>Pennsylvania </td> <td>294  </td>\n",
              "        </tr>\n",
              "        <tr>\n",
              "            <td>Missouri     </td> <td>258  </td>\n",
              "        </tr>\n",
              "        <tr>\n",
              "            <td>Virginia     </td> <td>253  </td>\n",
              "        </tr>\n",
              "    </tbody>\n",
              "</table>\n",
              "<p>... (43 rows omitted)</p>"
            ],
            "text/plain": [
              "State         | count\n",
              "California    | 755\n",
              "New York      | 672\n",
              "Michigan      | 340\n",
              "Ohio          | 326\n",
              "Illinois      | 323\n",
              "Massachusetts | 316\n",
              "Wisconsin     | 307\n",
              "Pennsylvania  | 294\n",
              "Missouri      | 258\n",
              "Virginia      | 253\n",
              "... (43 rows omitted)"
            ]
          },
          "metadata": {},
          "execution_count": 16
        },
        {
          "output_type": "display_data",
          "data": {
            "image/png": "[encoded data removed]",
            "text/plain": [
              "<Figure size 432x288 with 1 Axes>"
            ]
          },
          "metadata": {
            "needs_background": "light"
          }
        }
      ]
    },
    {
      "cell_type": "markdown",
      "metadata": {
        "id": "mhwSWiKYpXsC"
      },
      "source": [
        "### Reflections\n",
        "Add a text cell below to answer the following questions:\n",
        "1. What do you feel more confident about after completing this lab?\n",
        "\n",
        " I feel more confident about undstanding the self. classes after completing this lab.\n",
        "2. What do you feel you can use more help with after completing this lab?\n",
        "\n",
        "   I feel like I can use more help on the count and max and showing the histogram on how much each state is growing.  \n",
        "3. Do you have any constructive suggestions on how we can help you or improve this lab?   \n",
        "\n",
        "  I would go to a TA's or my professor's office hours or ask a classmate to help clarify on solving the situation. \n",
        "\n",
        "  "
      ]
    },
    {
      "cell_type": "markdown",
      "metadata": {
        "id": "1WwZLZdvpZB8"
      },
      "source": [
        "### Save your work to GitHub\n",
        "Please save this notebook to your lab repository."
      ]
    }
  ]
}