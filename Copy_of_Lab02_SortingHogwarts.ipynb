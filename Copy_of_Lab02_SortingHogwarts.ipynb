{
  "nbformat": 4,
  "nbformat_minor": 0,
  "metadata": {
    "kernelspec": {
      "display_name": "Python 3",
      "language": "python",
      "name": "python3"
    },
    "language_info": {
      "codemirror_mode": {
        "name": "ipython",
        "version": 3
      },
      "file_extension": ".py",
      "mimetype": "text/x-python",
      "name": "python",
      "nbconvert_exporter": "python",
      "pygments_lexer": "ipython3",
      "version": "3.7.3"
    },
    "colab": {
      "name": "Copy of Lab02_SortingHogwarts.ipynb",
      "provenance": [],
      "collapsed_sections": [],
      "include_colab_link": true
    }
  },
  "cells": [
    {
      "cell_type": "markdown",
      "metadata": {
        "id": "view-in-github",
        "colab_type": "text"
      },
      "source": [
        "<a href=\"https://colab.research.google.com/github/oparamo81/lab-notebook-originals/blob/main/Copy_of_Lab02_SortingHogwarts.ipynb\" target=\"_parent\"><img src=\"https://colab.research.google.com/assets/colab-badge.svg\" alt=\"Open In Colab\"/></a>"
      ]
    },
    {
      "cell_type": "markdown",
      "metadata": {
        "id": "9aXfrLXg9seM"
      },
      "source": [
        "# Lab 02 Sorting Hogwarts\n",
        "In this lab you will practice using conditional statements in order to sort your user into a Hogwarts house.\n",
        "\n",
        "## Asking for user preferences\n",
        "We will ask users a series of questions. This code will be provided to you. You will need to save responses from users and keep track of the preferences in terms of counts for each house.\n",
        "\n"
      ]
    },
    {
      "cell_type": "markdown",
      "metadata": {
        "id": "oH_PT-1bu19E"
      },
      "source": [
        "## Counts for each House\n",
        "We will use the following integer variables to keep track of whether the response given by users should place them in the house. There is a variable for each house and we will guide you when to increment each. Remember that *increment* means to add 1 to its value."
      ]
    },
    {
      "cell_type": "code",
      "metadata": {
        "id": "O2m4hak_va-j"
      },
      "source": [
        "# Variables to keep track of responses that show preferences for each House\n",
        "# You do not need to change the code in this cell and will use these variables \n",
        "#for the rest of the lab\n",
        "# The name of each variable is a House and you will increment if the user\n",
        "# response shows preference for that House. \n",
        "gryffindor = 1\n",
        "hufflepuff = 2\n",
        "ravenclaw = 3\n",
        "slytherin = 4"
      ],
      "execution_count": null,
      "outputs": []
    },
    {
      "cell_type": "markdown",
      "metadata": {
        "id": "LCUmYgcomFGg"
      },
      "source": [
        "## First Question: \n",
        "\n"
      ]
    },
    {
      "cell_type": "code",
      "metadata": {
        "id": "5DUZ_9hPmxCi",
        "colab": {
          "base_uri": "https://localhost:8080/"
        },
        "outputId": "a70d2765-2ae4-4358-bf47-8394a1e31ae4"
      },
      "source": [
        "# Question 1\n",
        "print(\"After I've passed away, I want people to remember me as:\")\n",
        "print('  1) The Good')\n",
        "print('  2) The Great')\n",
        "print('  3) The Wise')\n",
        "print('  4) The Bold')\n",
        "\n"
      ],
      "execution_count": null,
      "outputs": [
        {
          "output_type": "stream",
          "name": "stdout",
          "text": [
            "After I've passed away, I want people to remember me as:\n",
            "  1) The Good\n",
            "  2) The Great\n",
            "  3) The Wise\n",
            "  4) The Bold\n"
          ]
        }
      ]
    },
    {
      "cell_type": "markdown",
      "metadata": {
        "id": "GbGRzW9SwaW7"
      },
      "source": [
        "In the following cell, ask the user to enter a corresponding number from above (e.g. \"Please enter your number choice\") and save the response from the user. Remember that when a user enters a response, Python treats it as a string until told to treat as number."
      ]
    },
    {
      "cell_type": "code",
      "metadata": {
        "id": "LLzzUjIGwZix",
        "colab": {
          "base_uri": "https://localhost:8080/"
        },
        "outputId": "a0dc077d-4495-4060-c382-010db7f9242e"
      },
      "source": [
        "# Prompt user to enter number choice and save the number entered as a variable.\n",
        "choice = eval(input('please enter your number choice'))\n",
        "if choice == 1:\n",
        "  print('The Good')\n",
        "elif choice == 2: \n",
        "  print('The Great')\n",
        "elif choice == 3: \n",
        "  print('The Wise')\n",
        "elif choice == 4: \n",
        "  print('The Bold')"
      ],
      "execution_count": null,
      "outputs": [
        {
          "output_type": "stream",
          "name": "stdout",
          "text": [
            "please enter your number choice2\n",
            "The Great\n"
          ]
        }
      ]
    },
    {
      "cell_type": "markdown",
      "metadata": {
        "id": "5yNGFER9xNjc"
      },
      "source": [
        "In the following cell, based on the response from the user, increment the appropriate House count. You will complete the conditional statement as specified in the comments. Right now it always prints good choice. (Why?)"
      ]
    },
    {
      "cell_type": "code",
      "metadata": {
        "id": "_lGcvdh5xw6C",
        "colab": {
          "base_uri": "https://localhost:8080/"
        },
        "outputId": "9cc76ce3-a66f-4771-c288-df7550d5018b"
      },
      "source": [
        "# Change this if statement as specified in the comments\n",
        "# TODO: if the user's input is 1, increment hufflepuff\n",
        "user_in = int(input('pick a number'))\n",
        "\n",
        "if ('User input is 1'):\n",
        "    print(\"Good choice!\") \n",
        "\n",
        "\n",
        "# TODO: Change this code into an if else statement as described below\n",
        "# TODOL if the user's input is 1, increment hufflepuff\n",
        "elif user_in == 1:\n",
        "  print(\"hufflepuff\")\n",
        "# TODO: if the user's input is 2, increment slytherin\n",
        "elif user_in == 2: \n",
        "  print(\"slytherin\")\n",
        "# TODO: if the user's input is 3, increment ravenclaw\n",
        "elif user_in == 3:\n",
        "  print(\"ravenclaw\")\n",
        "# TODO: if the user's input is 4, increment gryffindor\n",
        "elif user_in == 4:\n",
        "  print(\"gryffindor\")\n",
        "# Error handling: What happens if the user's input is not 1-4?\n",
        "# This else clause can be kept as is\n",
        "else: \n",
        "  print(\"Invalid choice\")"
      ],
      "execution_count": null,
      "outputs": [
        {
          "output_type": "stream",
          "name": "stdout",
          "text": [
            "pick a number2\n",
            "Good choice!\n"
          ]
        }
      ]
    },
    {
      "cell_type": "markdown",
      "metadata": {
        "id": "4dODrt9WnO-v"
      },
      "source": [
        "## Second Question:"
      ]
    },
    {
      "cell_type": "code",
      "metadata": {
        "id": "ncutxJBKniMh",
        "colab": {
          "base_uri": "https://localhost:8080/"
        },
        "outputId": "e3b663e6-007b-4a30-8aa0-a24a71effbae"
      },
      "source": [
        "print('Q2) Dawn or Dusk?')\n",
        "print('  1) Dawn')\n",
        "print('  2) Dusk')"
      ],
      "execution_count": null,
      "outputs": [
        {
          "output_type": "stream",
          "name": "stdout",
          "text": [
            "Q2) Dawn or Dusk?\n",
            "  1) Dawn\n",
            "  2) Dusk\n"
          ]
        }
      ]
    },
    {
      "cell_type": "code",
      "metadata": {
        "id": "6dSl_gTHzfBm",
        "colab": {
          "base_uri": "https://localhost:8080/"
        },
        "outputId": "caee43f0-c17e-4130-8c77-8bdf36e9df4d"
      },
      "source": [
        "# Prompt user to enter number choice and save the number entered as a variable.\n",
        "Time_choice = int(input('pick a number for the sky'))\n",
        "if Time_choice == 1:\n",
        "  print('Dawn')\n",
        "elif Time_choice == 2: \n",
        "  print(' Dusk')\n"
      ],
      "execution_count": null,
      "outputs": [
        {
          "output_type": "stream",
          "name": "stdout",
          "text": [
            "pick a number for the sky2\n",
            " Dusk\n"
          ]
        }
      ]
    },
    {
      "cell_type": "markdown",
      "metadata": {
        "id": "R3rSX1wpztIC"
      },
      "source": [
        "In the following cell, based on the response from the user, increment the appropriate House count. You will complete the conditional statement as specified in the comments. Right now it always prints better choice. (This is not a good way to write a conditional statement!)"
      ]
    },
    {
      "cell_type": "code",
      "metadata": {
        "id": "Xf2dy7QWz1iQ",
        "colab": {
          "base_uri": "https://localhost:8080/"
        },
        "outputId": "29355ea4-f18e-4ac9-b711-1775b5cd9900"
      },
      "source": [
        "#Change this statement as specified to increment the appropriate house based on \n",
        "#the user response \n",
        "Time_choice = int(input('pick a number for the sky'))\n",
        "\n",
        "if  ('User input is 1'):\n",
        "  print(\"Better choice\")\n",
        "# TODO: Change this code into an if else statement as described below\n",
        "# TODO: if the answer is 1, increment gryffindor and ravenclaw\n",
        "elif Time_choice  ==1: \n",
        "  print('gryindor and ravenclaw')\n",
        "# TODO: if the answer is 2, increment hufflepuff and slytherin\n",
        "elif Time_choice  == 2:\n",
        "  print('huffle and slytherin')\n",
        "#The else clause can be left as is\n",
        "else:\n",
        "    print(\"Invalid choice\")"
      ],
      "execution_count": null,
      "outputs": [
        {
          "output_type": "stream",
          "name": "stdout",
          "text": [
            "pick a number for the sky2\n",
            "Better choice\n"
          ]
        }
      ]
    },
    {
      "cell_type": "markdown",
      "metadata": {
        "id": "E5-kf-6n05Fb"
      },
      "source": [
        "## Third Question:"
      ]
    },
    {
      "cell_type": "code",
      "metadata": {
        "id": "jDZDhGLQ08b0",
        "colab": {
          "base_uri": "https://localhost:8080/"
        },
        "outputId": "79014c9e-465d-4fb2-988d-095e5ced0385"
      },
      "source": [
        "# Question 3\n",
        "print('Which kind of instrument most pleases your ear?')\n",
        "print('  1) The violin')\n",
        "print('  2) The trumpet')\n",
        "print('  3) The piano')\n",
        "print('  4) The drum')"
      ],
      "execution_count": null,
      "outputs": [
        {
          "output_type": "stream",
          "name": "stdout",
          "text": [
            "Which kind of instrument most pleases your ear?\n",
            "  1) The violin\n",
            "  2) The trumpet\n",
            "  3) The piano\n",
            "  4) The drum\n"
          ]
        }
      ]
    },
    {
      "cell_type": "code",
      "metadata": {
        "id": "yn1MVik70-X6",
        "colab": {
          "base_uri": "https://localhost:8080/"
        },
        "outputId": "4078cde5-eb70-46c0-f9e2-0daea3d3cc4c"
      },
      "source": [
        "# Prompt user to enter number choice and save the number entered as a variable.\n",
        "Musical_choice = int(input('pick a number for an instrument'))\n",
        "if Musical_choice == 1:\n",
        "  print('violin')\n",
        "elif Musical_choice == 2: \n",
        "  print('trumpet')\n",
        "elif Musical_choice == 3: \n",
        "  print('piano')\n",
        "elif Musical_choice == 4: \n",
        "  print('drums')\n",
        "else:\n",
        "  print('not a choice')"
      ],
      "execution_count": null,
      "outputs": [
        {
          "output_type": "stream",
          "name": "stdout",
          "text": [
            "pick a number for an instrument3 \n",
            "piano\n"
          ]
        }
      ]
    },
    {
      "cell_type": "markdown",
      "metadata": {
        "id": "jrWA13-t1DII"
      },
      "source": [
        "In the following cell, based on the response from the user, increment the appropriate House count. You will complete the conditional statement as specified in the comments. Right now it always prints all sound wonderful."
      ]
    },
    {
      "cell_type": "code",
      "metadata": {
        "id": "XSZb06PT1S59",
        "colab": {
          "base_uri": "https://localhost:8080/"
        },
        "outputId": "feed96cc-140c-4619-c55d-e69a2ee2df8f"
      },
      "source": [
        "#Change this statement as specified to increment the appropriate house based on \n",
        "#the user response \n",
        "\n",
        "if ('user_ input is 1'):\n",
        "    print(\"All sound wonderful!\")\n",
        "# TODO: Change this code into an if else statement as described below\n",
        "# TODO: if the answer is 1, increment slytherin\n",
        "elif Musical_choice == 1:\n",
        "  print(\"All sound wonderful and slytherin gets a point!\")\n",
        "# TODO: if the answer is 2, increment hufflepuff\n",
        "elif Musical_choice == 2:\n",
        "  print(\"All sound wonderful and hufflepuff gets a point!\")\n",
        "# TODO: if the answer is 3, increment ravenclaw\n",
        "elif Musical_choice == 3:\n",
        "  print(\"All sound wonderful and raven gets a point!\")\n",
        "# TODO: if the answer is 4, increment gryffindor\n",
        "elif Musical_choice == 4:\n",
        "  print(\"All sound wonderful and slytherin gets a point!\")\n",
        "# This else clause can remain unchanged\n",
        "else:\n",
        "    print(\"Invalid choice\")"
      ],
      "execution_count": null,
      "outputs": [
        {
          "output_type": "stream",
          "name": "stdout",
          "text": [
            "All sound wonderful!\n"
          ]
        }
      ]
    },
    {
      "cell_type": "markdown",
      "metadata": {
        "id": "O8oF7J1OmCnQ"
      },
      "source": [
        "## Fourth Question:\n",
        "Here's where we will need to practice *nested conditional* statements. *Nested conditional* statements are *if* statements within *if* statements. Here we will ask all users the same question. However, based on their response within the *if* statement you will need to ask another question and then increment the appropriate House count. We will get this started and save the first response."
      ]
    },
    {
      "cell_type": "code",
      "metadata": {
        "id": "GWIPxLAS2ZgN",
        "colab": {
          "base_uri": "https://localhost:8080/"
        },
        "outputId": "1e39ef18-b68e-4a7c-9a0b-07a5e4812919"
      },
      "source": [
        "print('Do roads in nature tempt you the most?')\n",
        "print('  1) Yes')\n",
        "print('  2) No')\n",
        "\n",
        "choice = input('Please enter a number to answer:')\n",
        "select = int(choice)"
      ],
      "execution_count": null,
      "outputs": [
        {
          "name": "stdout",
          "output_type": "stream",
          "text": [
            "Do roads in nature tempt you the most?\n",
            "  1) Yes\n",
            "  2) No\n",
            "Please enter a number to answer:1\n"
          ]
        }
      ]
    },
    {
      "cell_type": "markdown",
      "metadata": {
        "id": "tuPX7Li-2YGw"
      },
      "source": [
        "Now based on the user reply, you will have to ask the user the specific type of road and then use that to increment the appropriate house count. We started out this if statement in the following cell and you will need to complete it by added nested if statements and incrementing house counts as specified in comments."
      ]
    },
    {
      "cell_type": "code",
      "metadata": {
        "id": "mCuyN8JZqPhI",
        "colab": {
          "base_uri": "https://localhost:8080/"
        },
        "outputId": "41d73c6c-4407-4061-e292-d9235b76fbd1"
      },
      "source": [
        "if select == 1:\n",
        "    print(\"Change this clause as below\")\n",
        "    # TODO:\n",
        "    # Ask user if prefer\n",
        "    print(\"Do you prefer\")\n",
        "    # 1) The wide, sunny grassy lane\n",
        "    print(' 1) The wide, sunny grassy road')\n",
        "    # 2) The twisting, leaf-strewn path through woods\n",
        "    print(' 2) The twisting, leaf-strewn path through wood')\n",
        "    # Save response as integer\n",
        "    road_pick1 = int(input('Which do you prefer'))\n",
        "    # If grassy lane, increment hufflepuff\n",
        "    if road_pick1 == 1: \n",
        "      print('grassy lane one point to huffflepuff')\n",
        "    # If woods, increment gryffindor\n",
        "    elif road_pick1 == 2: \n",
        "      print('wood one point to gryffindor')\n",
        "      gryffindor +=2\n",
        "    # No need to worry about error checking\n",
        "elif select == 2:\n",
        "    print(\"Does nothing\")\n",
        "    # TODO:\n",
        "    # Ask user if prefer\n",
        "    print(\"Do you prefer\")\n",
        "    # 1) The narrow, dark, lantern-lit alley\n",
        "    print(' 1) Narrow dark, latern-lit alley')\n",
        "    # 2) The cobbled street lined with ancient buildings\n",
        "    print(' 2) Cobbledd street lined with ancient buildings')\n",
        "    # Save response as integer\n",
        "    road_pick2 = int(input('Which do you prefer'))\n",
        "    # If alley, increment slytherin\n",
        "    if road_pick2 == 1:\n",
        "      print('alley one point to slytherin')\n",
        "    Slytherin +=1\n",
        "    # If cobbled street, increment ravenclaw \n",
        "    if road_pick2 == 2: \n",
        "      print('cobbled street one point to ravenclaw')\n",
        "      Ravenclaw +=1\n",
        "    # No need to worry about error checking\n",
        "else:\n",
        "    print(\"Invalid choice\")\n"
      ],
      "execution_count": null,
      "outputs": [
        {
          "output_type": "stream",
          "name": "stdout",
          "text": [
            "Change this clause as below\n",
            "Do you prefer\n",
            " 1) The wide, sunny grassy road\n",
            " 2) The twisting, leaf-strewn path through wood\n",
            "Which do you prefer1\n",
            "grassy lane one point to huffflepuff\n"
          ]
        }
      ]
    },
    {
      "cell_type": "markdown",
      "metadata": {
        "id": "OIWaikgzrzdR"
      },
      "source": [
        "## Challenge! Determining Appropriate House\n",
        "Now that we have tallied all the responses, can you figure out which house has the maximum number of responses? That will be the house for the user. If there is a tie, break the tie using alphabetical order: Gryffindor, Hufflepuff, Ravenclaw, Slytherin (in that order). We will get you started and show what needs to be printed, but you need to figure out what house has the maximum count using the count variables above.\n"
      ]
    },
    {
      "cell_type": "code",
      "metadata": {
        "id": "TM3VQOMVtiU4",
        "colab": {
          "base_uri": "https://localhost:8080/"
        },
        "outputId": "4b203eeb-8fa9-4d8d-9a71-d0185adf3a3f"
      },
      "source": [
        "# Let's have a string to keep track of the house.\n",
        "house = 'None'\n",
        "\n",
        "# Let's keep track of the max_count\n",
        "max = 0\n",
        "\n",
        "# How can you find the House with the max count?\n",
        "print('house values')\n",
        "print('Gryfiindor',gryffindor)\n",
        "print('Hufflepuff',hufflepuff)\n",
        "print('Ravenclaw',ravenclaw)\n",
        "print('Slytherin',slytherin)\n",
        "# Remember that in the event of tie the user should be sorted into\n",
        "# the House in alphabetical order, so\n",
        "# Gryffindor before Hufflepuff before Ravenclaw before Slytherin\n",
        "# Could comparing house counts in that order help you find the max?\n",
        "\n",
        "# if gryffindor is more than the current max, update max and set house to 'Gryffindor'\n",
        "if (gryffindor > hufflepuff and gryffindor > ravenclaw and gryffindor > slytherin) :\n",
        "    house = 'Gryffindor'\n",
        "    max = gryffindor\n",
        "elif (hufflepuff > ravenclaw and huffflepuff > slytherin): \n",
        "  house = 'Hufflepuff'\n",
        "\n",
        "elif (ravenclaw > slytherin):\n",
        "  house = 'Ravenclaw'\n",
        "else: \n",
        "  house = 'Slytherin'\n",
        "\n",
        "# The following code does not need to be changed.\n",
        "# If the user entered all invalid responses and no house has any counts\n",
        "# the user cannot be sorted into a house, so it is fine if house is \"None\"\n",
        "# at this point\n",
        "\n",
        "print('Congrats on being sorted into...' + house + '!')"
      ],
      "execution_count": null,
      "outputs": [
        {
          "output_type": "stream",
          "name": "stdout",
          "text": [
            "house values\n",
            "Gryfiindor 0\n",
            "Hufflepuff 0\n",
            "Ravenclaw 0\n",
            "Slytherin 0\n",
            "Congrats on being sorted into...Slytherin!\n"
          ]
        }
      ]
    },
    {
      "cell_type": "markdown",
      "metadata": {
        "id": "dKL0LYd-E4JB"
      },
      "source": [
        "### Reflections\n",
        "Add a text cell below to answer the following questions:\n",
        "1. What do you feel more confident about after completing this lab?\n",
        "\n",
        "  I felt more confident about variables, strings and organizing my mutiple choice options.\n",
        "2. What do you feel you can use more help with after completing this lab?\n",
        " \n",
        " I can probably use more help in counting all the points and seeing how many points each house received. However, I did receive a congratualtion on being a Slytherin which I know it is a bad house but it does mean that I am a horrible person.    \n",
        "3. Do you have any constructive suggestions on how we can help you or improve this lab?\n",
        "\n",
        "  I would have to say maybe going to office hours, paying extra close attention, or asking one of my classmate to clarify my situation."
      ]
    },
    {
      "cell_type": "markdown",
      "metadata": {
        "id": "gB1aHDpyFYey"
      },
      "source": [
        "### Save your work to GitHub\n",
        "Please save this notebook to your lab repository."
      ]
    }
  ]
}