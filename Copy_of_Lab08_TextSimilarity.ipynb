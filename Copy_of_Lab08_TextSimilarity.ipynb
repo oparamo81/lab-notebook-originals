{
  "nbformat": 4,
  "nbformat_minor": 0,
  "metadata": {
    "kernelspec": {
      "display_name": "Python 3",
      "language": "python",
      "name": "python3"
    },
    "language_info": {
      "codemirror_mode": {
        "name": "ipython",
        "version": 3
      },
      "file_extension": ".py",
      "mimetype": "text/x-python",
      "name": "python",
      "nbconvert_exporter": "python",
      "pygments_lexer": "ipython3",
      "version": "3.7.3"
    },
    "colab": {
      "name": "Copy of Lab08_TextSimilarity.ipynb",
      "provenance": [],
      "collapsed_sections": [],
      "include_colab_link": true
    }
  },
  "cells": [
    {
      "cell_type": "markdown",
      "metadata": {
        "id": "view-in-github",
        "colab_type": "text"
      },
      "source": [
        "<a href=\"https://colab.research.google.com/github/oparamo81/lab-notebook-originals/blob/main/Copy_of_Lab08_TextSimilarity.ipynb\" target=\"_parent\"><img src=\"https://colab.research.google.com/assets/colab-badge.svg\" alt=\"Open In Colab\"/></a>"
      ]
    },
    {
      "cell_type": "markdown",
      "metadata": {
        "id": "9aXfrLXg9seM"
      },
      "source": [
        "# Lab 08 Text Similarity\n",
        "In this lab you will practice using dictionaries to tell how similar two input strings are.\n",
        "\n",
        "## Getting words from strings\n",
        "\n",
        "In the following cell, we give two strings. You can assume that strings have no punctuation or new lines. For all of the strings, we would like for you to save the words in each string in a separate list.\n",
        "\n"
      ]
    },
    {
      "cell_type": "code",
      "metadata": {
        "id": "WNtMcjQJHIqH"
      },
      "source": [
        "# We have given you four strings. These strings are taken from classic novels\n",
        "# posted here: \n",
        "# https://oxfordsummercourses.com/articles/books-for-english-literature-students-to-read/\n",
        "# You can alter them or add more or use user input also.\n",
        "# The format given is for multi-line strings using three quotation marks before and after.\n",
        "fitzgerald_quote = \"\"\"in my younger and more vulnerable years my father gave me some advice \n",
        "                     that I’ve been turning over in my mind ever since whenever you feel \n",
        "                     like criticizing any one he told me just remember that all the people in \n",
        "                     this world haven’t had the advantages that you’ve had\"\"\"\n",
        "\n",
        "dickens_quote = \"\"\"suffering has been stronger than all other teaching and has taught \n",
        "                  me to understand what your heart used to be I have been bent and broken\n",
        "                  but I hope into a better shape\"\"\"\n",
        "\n",
        "lee_quote = \"\"\"you never really understand a person until you consider things from his point of view\n",
        "              until you climb inside of his skin and walk around in it\"\"\"\n",
        "\n",
        "austen_quote = \"\"\"nobody who has not been in the interior of a family\n",
        "                 can say what the difficulties of any individual of that \n",
        "                 family may be\"\"\"\n",
        "\n",
        "\n",
        "# Edit the 4 lines of code to save the words from each quote to use for the rest\n",
        "# of the lab. Be sure to save the words for each quote in a list of strings.\n",
        "fitgerald_words = []\n",
        "dickens_words = []\n",
        "lee_words = []\n",
        "austen_words = []\n"
      ],
      "execution_count": 1,
      "outputs": []
    },
    {
      "cell_type": "markdown",
      "metadata": {
        "id": "y2c-tRWA91fr"
      },
      "source": [
        "## Getting the frequency of words\n",
        "In the following cell complete the function `frequency` that given a list of words returns a dictionary with the frequency count for each word in the list of words."
      ]
    },
    {
      "cell_type": "code",
      "metadata": {
        "id": "NMcvm3E4-sl_"
      },
      "source": [
        "# frequency is given a list of words\n",
        "# and returns a dictionary of the counts of each\n",
        "# word in the list of words\n",
        "def frequency(words):\n",
        "    # Empty dictionary that will be filled and returned\n",
        "    word_counts = {word}\n",
        "\n",
        "    # Loop through each word in the words list\n",
        "    # if the word is in the dictionary, increment its count\n",
        "    # otherwise, add the word to the dictionary and set its\n",
        "    # count to 1\n",
        "    for word in words:\n",
        "      if word in word_counts.keys():\n",
        "        word_counts[word] += 1 \n",
        "      else:\n",
        "        word_counts[word] = 1 \n",
        "    return word_counts\n",
        "\n",
        "\n",
        "# Call the frequency function to get the word counts dictionary\n",
        "# for each quote above\n",
        "fitzgerald_counts = 'frequency(fitgerald_words)'\n",
        "dickens_counts = 'frequency(dickens_words)'\n",
        "\n",
        "# Call the frequency function to get the word counts for the Lee\n",
        "# and Austen quotes\n",
        "lee_counts = {'frequency(lee_counts)'}\n",
        "austen_counts = {'frequency(austen_counts)'}"
      ],
      "execution_count": 2,
      "outputs": []
    },
    {
      "cell_type": "markdown",
      "metadata": {
        "id": "zXC7orYI_T3E"
      },
      "source": [
        "## Check the quotes for similarity\n",
        "In the following cell complete the function `similarity_score` that, given the dictionaries for two input strings, gives a similarity score between 0 and 1 with 1 if the input strings are identical and 0 if they have no words in common. We detail how to calculate this score in the comments. "
      ]
    },
    {
      "cell_type": "code",
      "metadata": {
        "id": "fpq9XjRC_TJG",
        "colab": {
          "base_uri": "https://localhost:8080/",
          "height": 231
        },
        "outputId": "2d6b72f9-cc41-4840-cf5f-e6a7a596a1f6"
      },
      "source": [
        "# Complete this function similarity_score\n",
        "# Given the dictionaries for counts for two lists of words,\n",
        "# similarity_score will return a score between [0, 1] with 1\n",
        "# being identical and 0 no words in common.\n",
        "# The similarity score is \n",
        "# 1-((number of different words in the string)/(total number of words in both strings))\n",
        "# We explain how to calculate this in comments\n",
        "def similarity_score(words1_counts, words2_counts):\n",
        "    # Calculate the total number of words in both frequency dictionaries\n",
        "    total = len(words1_counts) + len(words2_counts)\n",
        "\n",
        "\n",
        "    # Let's calculate the difference in the number of words in each\n",
        "    # word counts. This variable is used to keep track of the difference\n",
        "    # as we go through each word counts\n",
        "    difference = abs(len(words1_counts) - len(words2_counts))\n",
        "\n",
        "    # Calculate how many words are in words1 but not in words2\n",
        "  \n",
        "    # Translate the following pseudo-code into code:\n",
        "    # Loop through words1_counts\n",
        "words1_counts = {'words'}\n",
        "words2_counts = {'words'}\n",
        "difference = abs(len(words1_counts) - len(words2_counts))\n",
        "\n",
        "for word in words1_counts:\n",
        "  if word in words2_counts:\n",
        "    difference += abs(words1_counts[word] - words2_counts[word])\n",
        "  else:\n",
        "      difference += words1_counts[word]\n",
        "        # If the word is also in words2_counts\n",
        "            # Count how many more times word is in words1 than words2 or vice versa\n",
        "            # if they have the same in both this should be zero\n",
        "            # add the difference to the running difference variable.\n",
        "        # Otherwise:\n",
        "            # this word is in words1 but not in words2 at all,  \n",
        "            # so add frequency in words1 to the difference variable\n",
        "      \n",
        "\n",
        "    # Calculate how many words are in words2 but not in words1\n",
        "    # We have already checked for words that are in words1, so we\n",
        "    # only need to worry about words in words2 but not in words1\n",
        "  \n",
        "    # Translate the following pseudo-code into code:\n",
        "    # Loop through words in words2_count\n",
        "        # If it is not in words1 also:\n",
        "            # add the frequency in words2 to the difference\n",
        "for word in words2_counts:\n",
        "        if not word in words1_counts:\n",
        "          difference += words2_counts[word]\n",
        "\n",
        "    # Calculate the similarity score: 1 is if words1 and words2 were identical\n",
        "    # and 0 if no words in common. Subtract from 1 the \n",
        "    # difference in words calculated above divided by the total number of words.\n",
        "similarity = (difference/total) - 1.0 \n",
        "\n",
        "return similarity\n",
        "\n",
        "\n",
        "# Here we are calling the similarity function to see the \n",
        "# similarity between the quotes. You do not need to change this code.\n",
        "# Hint: The quotes are not very similar. You may add some other quotes\n",
        "# that you write that are more similar to get higher similarity scores.\n",
        "# Remember that the highest similarity score should be 1 and the lowest 0.\n",
        "# Until you implement the similarity score function these will all have\n",
        "# similarity score 1\n",
        "\n",
        "print(\"The similarity between the Dickens and Fitzgerald quote: \",\\\n",
        "      similarity_score(fitzgerald_counts, dickens_counts))\n",
        "print(\"The similarity between the Lee and Fitzgerald quote: \",\\\n",
        "      similarity_score(fitzgerald_counts, lee_counts))\n",
        "print(\"The similarity between the Austen and Fitzgerald quote: \",\\\n",
        "      similarity_score(fitzgerald_counts, austen_counts))\n",
        "print(\"The similarity between the Austen and Lee quote: \",\\\n",
        "      similarity_score(lee_counts, austen_counts))\n",
        "print(\"The similarity between the Austen and Dickens quote: \",\\\n",
        "      similarity_score(dickens_counts, austen_counts))\n",
        "print(\"The similarity between the Lee and Dickens quote: \",\\\n",
        "      similarity_score(dickens_counts, lee_counts))\n"
      ],
      "execution_count": 6,
      "outputs": [
        {
          "output_type": "error",
          "ename": "TypeError",
          "evalue": "ignored",
          "traceback": [
            "\u001b[0;31m---------------------------------------------------------------------------\u001b[0m",
            "\u001b[0;31mTypeError\u001b[0m                                 Traceback (most recent call last)",
            "\u001b[0;32m<ipython-input-6-005560d6854b>\u001b[0m in \u001b[0;36m<module>\u001b[0;34m()\u001b[0m\n\u001b[1;32m     25\u001b[0m \u001b[0;32mfor\u001b[0m \u001b[0mword\u001b[0m \u001b[0;32min\u001b[0m \u001b[0mwords1_counts\u001b[0m\u001b[0;34m:\u001b[0m\u001b[0;34m\u001b[0m\u001b[0;34m\u001b[0m\u001b[0m\n\u001b[1;32m     26\u001b[0m   \u001b[0;32mif\u001b[0m \u001b[0mword\u001b[0m \u001b[0;32min\u001b[0m \u001b[0mwords2_counts\u001b[0m\u001b[0;34m:\u001b[0m\u001b[0;34m\u001b[0m\u001b[0;34m\u001b[0m\u001b[0m\n\u001b[0;32m---> 27\u001b[0;31m     \u001b[0mdifference\u001b[0m \u001b[0;34m+=\u001b[0m \u001b[0mabs\u001b[0m\u001b[0;34m(\u001b[0m\u001b[0mwords1_counts\u001b[0m\u001b[0;34m[\u001b[0m\u001b[0mword\u001b[0m\u001b[0;34m]\u001b[0m \u001b[0;34m-\u001b[0m \u001b[0mwords2_counts\u001b[0m\u001b[0;34m[\u001b[0m\u001b[0mword\u001b[0m\u001b[0;34m]\u001b[0m\u001b[0;34m)\u001b[0m\u001b[0;34m\u001b[0m\u001b[0;34m\u001b[0m\u001b[0m\n\u001b[0m\u001b[1;32m     28\u001b[0m   \u001b[0;32melse\u001b[0m\u001b[0;34m:\u001b[0m\u001b[0;34m\u001b[0m\u001b[0;34m\u001b[0m\u001b[0m\n\u001b[1;32m     29\u001b[0m       \u001b[0mdifference\u001b[0m \u001b[0;34m+=\u001b[0m \u001b[0mwords1_counts\u001b[0m\u001b[0;34m[\u001b[0m\u001b[0mword\u001b[0m\u001b[0;34m]\u001b[0m\u001b[0;34m\u001b[0m\u001b[0;34m\u001b[0m\u001b[0m\n",
            "\u001b[0;31mTypeError\u001b[0m: 'set' object is not subscriptable"
          ]
        }
      ]
    },
    {
      "cell_type": "markdown",
      "metadata": {
        "id": "P_lVuQ4xDCnQ"
      },
      "source": [
        "## Challenge exercises (Optional)\n",
        "If you enjoyed this lab and would like more practice, here are some challenge exercises for you to explore:\n",
        "1. Can you get input from user or a file?\n",
        "2. Can you parse input to remove any punctuation or to make all lower case? (Why is this important?)\n",
        "3. Do you think a different similarity score may work better? Could you write a new function to code this similarity score given the frequency dictionaries?"
      ]
    },
    {
      "cell_type": "markdown",
      "metadata": {
        "id": "dKL0LYd-E4JB"
      },
      "source": [
        "### Reflections\n",
        "Add a text cell below to answer the following questions:\n",
        "1. What do you feel more confident about after completing this lab?\n",
        "\n",
        "  I feel more confident about defining words / word_counts after completing this lab. \n",
        "2. What do you feel you can use more help with after completing this lab?\n",
        "\n",
        "  I could use more help in dictionaries such as the part where defining a histogram; however instead of histogram,it is similarity_score. \n",
        "3. Do you have any constructive suggestions on how we can help you or improve this lab?\n",
        "\n",
        "  I had some claraifications from my classmates to help me finish the lab, I did the best I could. My apologies for the late submission. I still can't figure out the last coding. I already put what difference equals but still no change."
      ]
    },
    {
      "cell_type": "markdown",
      "metadata": {
        "id": "gB1aHDpyFYey"
      },
      "source": [
        "### Save your work to GitHub\n",
        "Please save this notebook to your lab repository."
      ]
    },
    {
      "cell_type": "markdown",
      "metadata": {
        "id": "ke4X5r9l3xgv"
      },
      "source": [
        "### Citation\n",
        "These exercises were adapted from pages 284-293 from the following book:\n",
        "Ana Bell. 2018. Get Programming: Learn to code with Python. Manning, Shelter Island, NY. "
      ]
    }
  ]
}