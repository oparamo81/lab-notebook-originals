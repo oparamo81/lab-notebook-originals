{
  "cells": [
    {
      "cell_type": "markdown",
      "metadata": {
        "id": "view-in-github",
        "colab_type": "text"
      },
      "source": [
        "<a href=\"https://colab.research.google.com/github/oparamo81/lab-notebook-originals/blob/main/Copy_of_Lab05.ipynb\" target=\"_parent\"><img src=\"https://colab.research.google.com/assets/colab-badge.svg\" alt=\"Open In Colab\"/></a>"
      ]
    },
    {
      "cell_type": "markdown",
      "metadata": {
        "id": "hyxAFIibcSWR"
      },
      "source": [
        "<a href=\"https://colab.research.google.com/github/LMU-CMSI-1010/lab-notebooks-original/blob/main/Lab05.ipynb\" target=\"_parent\"><img src=\"https://colab.research.google.com/assets/colab-badge.svg\" alt=\"Open In Colab\"/></a>"
      ]
    },
    {
      "cell_type": "markdown",
      "metadata": {
        "id": "9aXfrLXg9seM"
      },
      "source": [
        "# Lab 05 Walk with Purpose\n",
        "In this lab you will practice using for loops and while loops to simulate taking a walk. However, this time you will have a goal to start in the center of the room and reach either wall. The number and direction of steps will be determined by random integers—a common approach for programs that seek to simulate some behaviors or systems.\n",
        "\n",
        "## Flipping a coin and getting steps\n",
        "\n",
        "As for Lab 04, we provide you with the same code for simulating flipping a coin in the following cell. We also provide you with code to get a random number of steps to take. **Please remember to run this cell, so that you may call the function to flip a coin and the function to get a random number of steps.**\n",
        "\n"
      ]
    },
    {
      "cell_type": "code",
      "execution_count": 1,
      "metadata": {
        "id": "Rt0kFDWS9RJU"
      },
      "outputs": [],
      "source": [
        "# The random module is what let's us make calls to get random integers\n",
        "import random\n",
        "\n",
        "# This function simulates flipping a coin. It returns the string H for heads\n",
        "# and T for tails\n",
        "def flip_coin():\n",
        "    coin = ''\n",
        "    flip = random.randint(1, 10)\n",
        "    if flip <= 5:\n",
        "      coin = 'H'\n",
        "    else:\n",
        "      coin = 'T'\n",
        "    return coin\n",
        "\n",
        "# This function simulates taking a number of steps. It will return an integer\n",
        "# number of steps to take\n",
        "def get_steps():\n",
        "    steps = random.randint(1, 50)\n",
        "    return steps"
      ]
    },
    {
      "cell_type": "markdown",
      "metadata": {
        "id": "y2c-tRWA91fr"
      },
      "source": [
        "## Walking from the center of a room\n",
        "Now imagine that you or a robot if you prefer are placed in the center of the room. The following cell gives the variables to keep track of your position in that room. The room has a width of 100 ft and you (or your robot) can walk horizontally across the room to the left or the right. The leftmost wall has position 0 and the rightmost wall has position 100. **Please run this cell so you can use these variables.** This cell is the same as in Lab 04.\n"
      ]
    },
    {
      "cell_type": "code",
      "execution_count": 2,
      "metadata": {
        "id": "NMcvm3E4-sl_"
      },
      "outputs": [],
      "source": [
        "# Use this variable to keep track of your position\n",
        "position = 50\n",
        "left_wall = 0\n",
        "right_wall = 100"
      ]
    },
    {
      "cell_type": "markdown",
      "metadata": {
        "id": "zXC7orYI_T3E"
      },
      "source": [
        "## A few chances to the reach a wall\n",
        "In the following cell, **use a for loop to give yourself (or your robot) 5 chances to reach the wall.** Each chance will involve flipping a coin and taking a random number of steps in the correct direction based on the coin flip. If you reach the wall after your 5 chances, you win!"
      ]
    },
    {
      "cell_type": "code",
      "execution_count": 3,
      "metadata": {
        "id": "fpq9XjRC_TJG",
        "colab": {
          "base_uri": "https://localhost:8080/"
        },
        "outputId": "109d4989-259d-498c-9c48-9188e39b62f2"
      },
      "outputs": [
        {
          "output_type": "stream",
          "name": "stdout",
          "text": [
            "You win!\n"
          ]
        }
      ],
      "source": [
        "# TODO: Create a for loop to give yourself 5 chance to walk towards a wall\n",
        "   # Flip a coin\n",
        "counter = 5\n",
        "new_coin = flip_coin()\n",
        "new_steps = get_steps()\n",
        "while counter > 0 :\n",
        "  if new_coin == 'H':\n",
        "    position += new_steps\n",
        "    counter = counter-1\n",
        "  else:\n",
        "    position -= new_steps\n",
        "    counter = counter-1\n",
        "\n",
        "    # Get number of steps\n",
        "\n",
        "    # You can print the variable for coin and steps to help you debug\n",
        "    # print(coin, steps)\n",
        "\n",
        "    # If coin flip is heads:\n",
        "        # Walk right, i.e add steps to your position\n",
        "    # Otherwise:\n",
        "        # Walk left, i.e. remove steps from your position\n",
        "\n",
        "\n",
        "\n",
        "# If you've reached either wall: you win\n",
        "if position <= left_wall or position >= right_wall:\n",
        "    print('You win!')\n",
        "else:\n",
        "    print('You are at position', position, 'in the room.')"
      ]
    },
    {
      "cell_type": "markdown",
      "metadata": {
        "id": "FBvQb4tOArmq"
      },
      "source": [
        "## Keep trying until you reach a wall\n",
        "\n",
        "In the following cell, **use a `while` loop to keep on taking steps towards a wall until you reach the left wall or right wall.** To help you reach a wall more quickly, you can double the number of steps. First get a random number of steps to take. Then you will flip your first coin to choose a direction. Then you will flip a second coin. If it is the same toss as the first coin (such H-H or T-T), you can double your number of steps in the given direction. **You also need to keep track of how many chances (iterations) it takes you to reach a wall.**"
      ]
    },
    {
      "cell_type": "code",
      "execution_count": 5,
      "metadata": {
        "id": "gLFgAtynBorm",
        "colab": {
          "base_uri": "https://localhost:8080/"
        },
        "outputId": "43f9f47d-40dd-4ce6-dddd-a37e419403ed"
      },
      "outputs": [
        {
          "output_type": "stream",
          "name": "stdout",
          "text": [
            "loop counter:  1\n",
            "position:  50\n",
            "coin1:  H\n",
            "coin2:  H\n",
            "newer_steps:  50\n",
            "position after move:  50\n",
            "\n",
            "\n",
            "loop counter:  2\n",
            "position:  50\n",
            "coin1:  H\n",
            "coin2:  T\n",
            "newer_steps:  100\n",
            "position after move:  150\n",
            "You reached the wall after 2 chances.\n",
            "You reached the wall after 3 chances.\n"
          ]
        }
      ],
      "source": [
        "# Reset your position to the center of the room\n",
        "position = 50\n",
        "\n",
        "# Set your counter to see how many chances you have taken to reach the wall\n",
        "counter = 3\n",
        "coin1 = flip_coin()\n",
        "coin2 = flip_coin()\n",
        "newer_steps = get_steps()\n",
        "\n",
        "# TODO: While you haven't reached the left wall or right wall:\n",
        "    # Get a random number of steps\n",
        "loop_counter = 0\n",
        "while position != left_wall or position != right_wall:\n",
        "    # Flip a coin\n",
        "    coin1 = flip_coin()\n",
        "    # Flip another coin\n",
        "    coin2 = flip_coin()\n",
        "\n",
        "    # Debug print steps and coin flips\n",
        "    # print(steps, coin1, coin2)\n",
        "    loop_counter = loop_counter + 1\n",
        "\n",
        "    print(\"loop counter: \", loop_counter)\n",
        "    print(\"position: \", position)\n",
        "    print(\"coin1: \", coin1)\n",
        "    print(\"coin2: \", coin2)\n",
        "    print(\"newer_steps: \", newer_steps)\n",
        "\n",
        "    # If the first coin toss is the same as the second:\n",
        "        # Double the number of steps\n",
        "    if coin1 == coin2:\n",
        "        newer_steps = newer_steps * 2\n",
        "    # If the first toss is heads:\n",
        "        # Move right, add steps to your position\n",
        "    elif coin1 == 'H':\n",
        "        position += newer_steps\n",
        "    # Otherwise:\n",
        "        # Move left, subtract steps from your position\n",
        "    elif coin1 == 'H':\n",
        "            position -= newer_steps\n",
        "\n",
        "    # Increment your counter for each iteration\n",
        "    print(\"position after move: \", position)\n",
        "\n",
        "\n",
        "    if position >= right_wall or position <= left_wall:\n",
        "        print('You reached the wall after', loop_counter, 'chances.')\n",
        "        break\n",
        "\n",
        "    print(\"\\n\")\n",
        "    if loop_counter == 50000:\n",
        "        break\n",
        "\n",
        "\n",
        "# The following statement does not need to be changed.\n",
        "print('You reached the wall after', counter, 'chances.')\n",
        "\n",
        "# The code below is for us to test your code. Do not modify it.\n",
        "assert(counter > 0)\n",
        "assert(position <= left_wall or position >= right_wall)"
      ]
    },
    {
      "cell_type": "markdown",
      "metadata": {
        "id": "dKL0LYd-E4JB"
      },
      "source": [
        "### (Optional) Reflections\n",
        "Add a text cell below to answer the following questions:\n",
        "1. What do you feel more confident about after completing this lab?\n",
        "\n",
        "  I feel more confident about using loop (while) after completing this lab.\n",
        "\n",
        "2. What do you feel you can use more help with after completing this lab?\n",
        "\n",
        "  I feel that I could use more help with when to use if, elif or else in the coding after completing this lab.\n",
        "\n",
        "3. Do you have any constructive suggestions on how we can help you or improve this lab?\n",
        "\n",
        "  If I have any constructive suggestions on how you can help me or improve this lab then I will go to Prof. Morgan's office hours, TA's tutoring hours, etc."
      ]
    },
    {
      "cell_type": "markdown",
      "metadata": {
        "id": "gB1aHDpyFYey"
      },
      "source": [
        "### Save your work to GitHub\n",
        "Please save this notebook to your lab repository."
      ]
    }
  ],
  "metadata": {
    "kernelspec": {
      "display_name": "Python 3.10.0 64-bit",
      "language": "python",
      "name": "python3"
    },
    "language_info": {
      "codemirror_mode": {
        "name": "ipython",
        "version": 3
      },
      "file_extension": ".py",
      "mimetype": "text/x-python",
      "name": "python",
      "nbconvert_exporter": "python",
      "pygments_lexer": "ipython3",
      "version": "3.10.0"
    },
    "vscode": {
      "interpreter": {
        "hash": "aee8b7b246df8f9039afb4144a1f6fd8d2ca17a180786b69acc140d282b71a49"
      }
    },
    "colab": {
      "provenance": [],
      "include_colab_link": true
    }
  },
  "nbformat": 4,
  "nbformat_minor": 0
}