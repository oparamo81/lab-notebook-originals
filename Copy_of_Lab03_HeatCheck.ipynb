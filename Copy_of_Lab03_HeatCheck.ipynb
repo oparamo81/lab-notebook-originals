{
  "nbformat": 4,
  "nbformat_minor": 0,
  "metadata": {
    "kernelspec": {
      "display_name": "Python 3",
      "language": "python",
      "name": "python3"
    },
    "language_info": {
      "codemirror_mode": {
        "name": "ipython",
        "version": 3
      },
      "file_extension": ".py",
      "mimetype": "text/x-python",
      "name": "python",
      "nbconvert_exporter": "python",
      "pygments_lexer": "ipython3",
      "version": "3.7.3"
    },
    "colab": {
      "name": "Copy of Lab03_HeatCheck.ipynb",
      "provenance": [],
      "collapsed_sections": [],
      "include_colab_link": true
    }
  },
  "cells": [
    {
      "cell_type": "markdown",
      "metadata": {
        "id": "view-in-github",
        "colab_type": "text"
      },
      "source": [
        "<a href=\"https://colab.research.google.com/github/oparamo81/lab-notebook-originals/blob/main/Copy_of_Lab03_HeatCheck.ipynb\" target=\"_parent\"><img src=\"https://colab.research.google.com/assets/colab-badge.svg\" alt=\"Open In Colab\"/></a>"
      ]
    },
    {
      "cell_type": "markdown",
      "metadata": {
        "id": "9aXfrLXg9seM"
      },
      "source": [
        "# Lab 03 Heat-Check\n",
        "In this lab you will practice writing functions that print results to the user and that return values.\n",
        "\n",
        "## From Celsius to Fahrenheit \n",
        "\n",
        "In class we presented a function that given a temperature in Celsius will print the temperature in Fahrenheit. We include it below as an example that you will use for the next function.\n",
        "\n"
      ]
    },
    {
      "cell_type": "code",
      "metadata": {
        "id": "Rt0kFDWS9RJU",
        "colab": {
          "base_uri": "https://localhost:8080/"
        },
        "outputId": "b8dbeb05-4cb1-4cb7-abdc-980245dd8242"
      },
      "source": [
        "def print_as_fahrenheit(c):\n",
        "    f = ((9.0 / 5.0) * c) + 32.0\n",
        "    print(c, 'C ==', f, 'F')\n",
        "\n",
        "\n",
        "print_as_fahrenheit(0.0)"
      ],
      "execution_count": null,
      "outputs": [
        {
          "output_type": "stream",
          "name": "stdout",
          "text": [
            "0.0 C == 32.0 F\n"
          ]
        }
      ]
    },
    {
      "cell_type": "markdown",
      "metadata": {
        "id": "y2c-tRWA91fr"
      },
      "source": [
        "## From Fahrenheit to Celsius\n",
        "\n",
        "Using the function `print_as_fahrenheit` for how to make the conversion between Fahrenheit and Celsius, write a function `print_as_celsius(f)`. This function should take as input a temperature in Fahrenheit and print the temperature in Celsius. We have given an example of how it should be printed for the example above. "
      ]
    },
    {
      "cell_type": "code",
      "metadata": {
        "id": "NMcvm3E4-sl_",
        "colab": {
          "base_uri": "https://localhost:8080/"
        },
        "outputId": "eef71ef5-84e6-4f6e-ba7f-52ae50f80a9b"
      },
      "source": [
        "# Write a function that given a temperature in Fahrenheit print the temperature\n",
        "# in Celsius.\n",
        "#\n",
        "# Call this function is print_as_celsius.\n",
        "\n",
        "def print_as_celsius (temp):\n",
        "  Cel = ((temp *9/5 )+32)\n",
        "  print(temp, 'C ==', Cel, 'F')\n",
        "\n",
        "Choice = input('Pick a number')\n",
        "\n",
        "print('29.0 F == 84.2 C') # This is sample output! Make sure to do this for real."
      ],
      "execution_count": null,
      "outputs": [
        {
          "output_type": "stream",
          "name": "stdout",
          "text": [
            "Pick a number 29\n",
            "29.0 F == 84.2 C\n"
          ]
        }
      ]
    },
    {
      "cell_type": "markdown",
      "metadata": {
        "id": "zXC7orYI_T3E"
      },
      "source": [
        "## Testing your code\n",
        "The following code will use the function provided to print the Celsius temperature in Fahrenheit and the function you have written to print the temperature in Fahrenheit in Celsius. Test your code using this driver code and add at least two more function calls to test your code."
      ]
    },
    {
      "cell_type": "code",
      "metadata": {
        "id": "fpq9XjRC_TJG",
        "colab": {
          "base_uri": "https://localhost:8080/"
        },
        "outputId": "9951c895-ba1f-4d46-93f1-0877e5cb53a1"
      },
      "source": [
        "# This code will only work once you write your function above.\n",
        "# Check that the results are consistent.\n",
        "print_as_fahrenheit(37)\n",
        "print_as_celsius(98.6) \n",
        "\n",
        "print_as_fahrenheit(22)\n",
        "print_as_celsius(71.6)\n",
        "# Can you add two more calls to your function to make sure that it\n",
        "# works properly?"
      ],
      "execution_count": 69,
      "outputs": [
        {
          "output_type": "stream",
          "name": "stdout",
          "text": [
            "37 C == 98.60000000000001 F\n",
            "98.6 C == 209.48 F\n",
            "22 C == 71.6 F\n",
            "71.6 C == 160.88 F\n"
          ]
        }
      ]
    },
    {
      "cell_type": "markdown",
      "metadata": {
        "id": "FBvQb4tOArmq"
      },
      "source": [
        "## Converting from miles to meters\n",
        "In the following cell, write a function called miles_to_meters that given a number of miles returns the number of meters. Remember that one mile is 1.60934 kilometers and 1 kilometer is 1000 meters. "
      ]
    },
    {
      "cell_type": "code",
      "metadata": {
        "id": "gLFgAtynBorm"
      },
      "source": [
        "# Write the function miles_to_meters.\n",
        "\n",
        "def miles_to_meters(length):\n",
        "  meters = ((length *1609.344)) \n",
        "  print(meters, 'meter is = to', length, 'miles') \n",
        "\n",
        "  number_of_miles = ('how many miles did you run?')\n",
        "  miles_to_meters = (number_of_miles)\n",
        "\n",
        "# - Single argument is a number of miles.\n",
        "# - Return value should be the number of meters.\n",
        "# - Nothing needs to be printed to the screen.\n",
        "# - We will test the code in the following cell.\n"
      ],
      "execution_count": null,
      "outputs": []
    },
    {
      "cell_type": "markdown",
      "metadata": {
        "id": "ILJ5Cy29CC68"
      },
      "source": [
        "## Testing the mile conversion\n",
        "In the following code we test your function. You can modify this code or add more code to it to test your function."
      ]
    },
    {
      "cell_type": "code",
      "metadata": {
        "id": "jvIpU4DECTli",
        "colab": {
          "base_uri": "https://localhost:8080/"
        },
        "outputId": "74dfe6de-a768-438e-f4b2-9f62e22a356b"
      },
      "source": [
        "# Code in this cell will not work until you have written miles_to_meters\n",
        "mile_test = 5\n",
        "meter_test = miles_to_meters(mile_test)\n",
        "print(mile_test , 'miles ==', meter_test, 'meters')\n",
        "\n",
        "def miles_to_meters(length):\n",
        "  meters = ((length *1609.344)) \n",
        "  print(meters, 'meter is = to', length, 'miles') \n",
        "\n",
        "  number_of_miles = ('how many miles did you run?')\n",
        "  miles_to_meters = (number_of_miles)\n"
      ],
      "execution_count": 68,
      "outputs": [
        {
          "output_type": "stream",
          "name": "stdout",
          "text": [
            "8046.72 meter is = to 5 miles\n",
            "5 miles == None meters\n"
          ]
        }
      ]
    },
    {
      "cell_type": "markdown",
      "metadata": {
        "id": "tUJEMX4ZC_ka"
      },
      "source": [
        "## Calculating the total bill\n",
        "In the following cell write a function, calculate_total, that given as parameters a float for a price and an integer percent returns the total of the price and a percent increase as given by the percent parameter."
      ]
    },
    {
      "cell_type": "code",
      "metadata": {
        "id": "OvRHXmU5EcOw",
        "colab": {
          "base_uri": "https://localhost:8080/"
        },
        "outputId": "120f4a59-2311-449f-c837-15a76d2c4187"
      },
      "source": [
        "# TODO: write calculate_total function\n",
        "def calculate_total(price,tax):\n",
        "  total_bill = price + (price*(tax/100))\n",
        "  return total_bill\n",
        "\n",
        "option1 = float(input('give me a price'))\n",
        "option2 = float(input('give me a tax'))\n",
        "\n",
        "calculate_total(option1,option2)\n",
        "# Parameters: float for price, integer for percent\n",
        "# Returns: float for total price with percent increase"
      ],
      "execution_count": 70,
      "outputs": [
        {
          "name": "stdout",
          "output_type": "stream",
          "text": [
            "give me a price24.29\n",
            "give me a tax 5\n"
          ]
        },
        {
          "output_type": "execute_result",
          "data": {
            "text/plain": [
              "25.5045"
            ]
          },
          "metadata": {},
          "execution_count": 70
        }
      ]
    },
    {
      "cell_type": "markdown",
      "metadata": {
        "id": "uP31YvtMDvtM"
      },
      "source": [
        "## Testing the calculate function\n",
        "Complete the following testing code as specified in the comments."
      ]
    },
    {
      "cell_type": "code",
      "metadata": {
        "id": "lYli12_xD7Je"
      },
      "source": [
        "# Call your function with the price of 30 and percent of 20.\n"
      ],
      "execution_count": 78,
      "outputs": []
    },
    {
      "cell_type": "code",
      "metadata": {
        "id": "zn6Si5SZP-lg"
      },
      "source": [
        "test_price = 79.75\n",
        "test_percent = 15\n",
        "\n",
        "# - Call your function on the test price and test percent and save the result\n",
        "#   to a new variable\n",
        "\n",
        "  \n",
        "\n",
        "# - Print the new total\n",
        "\n",
        "Print(test_total)\n"
      ],
      "execution_count": 85,
      "outputs": []
    },
    {
      "cell_type": "markdown",
      "metadata": {
        "id": "dKL0LYd-E4JB"
      },
      "source": [
        "### Reflections\n",
        "Add a text cell below to answer the following questions:\n",
        "1. What do you feel more confident about after completing this lab?\n",
        "\n",
        "  I feel more confident in converting fahrenheit and celsius then from celsius and fahrenheit because it involves math and I can check whether my calculation is correct or incorrect.\n",
        "2. What do you feel you can use more help with after completing this lab?\n",
        "\n",
        "  I feel like I can use a bit more help with calculating from miles to meters. \n",
        "3. Do you have any constructive suggestions on how we can help you or improve this lab?\n",
        "\n",
        "  I would say going to office hours, paying extra close attention, and asking one of my classmate to clarify my situation/question.\n"
      ]
    },
    {
      "cell_type": "markdown",
      "metadata": {
        "id": "gB1aHDpyFYey"
      },
      "source": [
        "### Save your work to GitHub\n",
        "Please save this notebook to your lab repository."
      ]
    }
  ]
}