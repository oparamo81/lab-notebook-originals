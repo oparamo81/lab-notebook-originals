{
  "nbformat": 4,
  "nbformat_minor": 0,
  "metadata": {
    "colab": {
      "name": "Copy of Lab04_TakeAWalk.ipynb",
      "provenance": [],
      "collapsed_sections": [],
      "include_colab_link": true
    },
    "kernelspec": {
      "display_name": "Python 3",
      "language": "python",
      "name": "python3"
    },
    "language_info": {
      "codemirror_mode": {
        "name": "ipython",
        "version": 3
      },
      "file_extension": ".py",
      "mimetype": "text/x-python",
      "name": "python",
      "nbconvert_exporter": "python",
      "pygments_lexer": "ipython3",
      "version": "3.7.3"
    }
  },
  "cells": [
    {
      "cell_type": "markdown",
      "metadata": {
        "id": "view-in-github",
        "colab_type": "text"
      },
      "source": [
        "<a href=\"https://colab.research.google.com/github/oparamo81/lab-notebook-originals/blob/main/Copy_of_Lab04_TakeAWalk.ipynb\" target=\"_parent\"><img src=\"https://colab.research.google.com/assets/colab-badge.svg\" alt=\"Open In Colab\"/></a>"
      ]
    },
    {
      "cell_type": "markdown",
      "metadata": {
        "id": "9aXfrLXg9seM"
      },
      "source": [
        "# Lab 04 Take a Walk\n",
        "In this lab you will practice using boolean expressions to simulate taking a walk. The number and direction of steps will be determined by random integers—a common approach for programs that seek to simulate some behaviors or systems.\n",
        "\n",
        "## Flipping a coin and getting steps\n",
        "\n",
        "We provide you with code for simulating flipping a coin in the following cell. We also provide you with code to get a random number of steps to take. Please remember to run this cell, so that you may call the function to flip a coin and the function to get a random number of steps.\n",
        "\n"
      ]
    },
    {
      "cell_type": "code",
      "metadata": {
        "id": "Rt0kFDWS9RJU"
      },
      "source": [
        "# The random module is what let's us make calls to get random integers\n",
        "import random\n",
        "\n",
        "# This function simulates flipping a coin. It returns the string H for heads\n",
        "# and T for tails\n",
        "def flip_coin():\n",
        "    coin = ''\n",
        "    flip = random.randint(1, 10)\n",
        "    if flip <= 5:\n",
        "      coin = 'H'\n",
        "    else:\n",
        "      coin = 'T'\n",
        "    return coin\n",
        "\n",
        "# This function simulates taking a number of steps. It will return an integer\n",
        "# number of steps to take\n",
        "def get_steps():\n",
        "    steps = random.randint(1, 50)\n",
        "    return steps"
      ],
      "execution_count": null,
      "outputs": []
    },
    {
      "cell_type": "code",
      "metadata": {
        "colab": {
          "base_uri": "https://localhost:8080/"
        },
        "id": "YnXoJdtD58sw",
        "outputId": "8ef3ea26-7a1b-4380-cd72-175818f90360"
      },
      "source": [
        "get_steps()"
      ],
      "execution_count": null,
      "outputs": [
        {
          "data": {
            "text/plain": [
              "44"
            ]
          },
          "execution_count": 5,
          "metadata": {},
          "output_type": "execute_result"
        }
      ]
    },
    {
      "cell_type": "code",
      "metadata": {
        "colab": {
          "base_uri": "https://localhost:8080/"
        },
        "id": "FtBAo7546te8",
        "outputId": "99ebaf52-6eed-4586-fd93-d2c916c53313"
      },
      "source": [
        "flip_coin()=='H'"
      ],
      "execution_count": null,
      "outputs": [
        {
          "data": {
            "text/plain": [
              "False"
            ]
          },
          "execution_count": 10,
          "metadata": {},
          "output_type": "execute_result"
        }
      ]
    },
    {
      "cell_type": "markdown",
      "metadata": {
        "id": "y2c-tRWA91fr"
      },
      "source": [
        "## Walking from the center of a room\n",
        "Now imagine that you or a robot if you prefer are placed in the center of the room. The following cell gives the variables to keep track of your position in that room. The room has a width of 100 ft and you (or your robot) can walk horizontally across the room to the left or the right. The leftmost wall has position 0 and the rightmost wall has position 100. Please run this cell so you can use these variables. If you want to try to start over to test your code on different random coin flips and steps, run this cell again to reset your position in the room.\n"
      ]
    },
    {
      "cell_type": "code",
      "metadata": {
        "id": "NMcvm3E4-sl_"
      },
      "source": [
        "# Use this variable to keep track of your position\n",
        "position = 50\n",
        "left_wall = 0\n",
        "right_wall = 100"
      ],
      "execution_count": null,
      "outputs": []
    },
    {
      "cell_type": "markdown",
      "metadata": {
        "id": "zXC7orYI_T3E"
      },
      "source": [
        "## Flip two coins\n",
        "In the following cell, use the `flip_coin` function we provided above to simulate two coin flips. Save the results of flipping each coin in separate variables. Add code to check if each toss is heads or tails and save them as boolean variables as indicated in the comments. "
      ]
    },
    {
      "cell_type": "code",
      "metadata": {
        "colab": {
          "base_uri": "https://localhost:8080/"
        },
        "id": "fpq9XjRC_TJG",
        "outputId": "1780d4af-29f8-4090-caec-1ed8840e5efc"
      },
      "source": [
        "# Call the flip coin function above and save the return value\n",
        "# of each call in a separate value in order to use the results\n",
        "coin1 = \"flip_coin(H)\" # Initially hardcoded so that you can see how they\n",
        "coin2 = \"flip_coin(T)\" # might work---make sure to change these!\n",
        "\n",
        "if coin1 == 'H':\n",
        "  is_head1== True\n",
        "\n",
        "else: \n",
        "  \"is_head1\"==False\n",
        "\n",
        "if coin2 == 'T':\n",
        "  is_tail2== False\n",
        "\n",
        "else:\n",
        "  \"is_tail2\" == True\n",
        "\n",
        "\n",
        "# You may use statements like these to \"peek\" into your programs;\n",
        "# once you know that they work as expected, you may remove them\n",
        "print( 'First toss:', coin1, 'Second toss:', coin2)\n",
        "\n",
        "# Declare two boolean variables, one for each coin flip.\n",
        "# Set the variable to True if the coin flip was heads and False\n",
        "# otherwise. What Boolean expression will you use?\n",
        "is_head2 = coin1 == 'H' # These are hardcoded again, just so you can see\n",
        "is_head2 = coin2 == 'T' # what the results might look like.\n",
        "print( 'True',' False')\n"
      ],
      "execution_count": null,
      "outputs": [
        {
          "name": "stdout",
          "output_type": "stream",
          "text": [
            "First toss: flip_coin(H) Second toss: flip_coin(T)\n",
            "True  False\n"
          ]
        }
      ]
    },
    {
      "cell_type": "markdown",
      "metadata": {
        "id": "FBvQb4tOArmq"
      },
      "source": [
        "## Let's start walking...\n",
        "Now with the coins you flipped, follow the instructions in the comments below to determine how many steps you or your robot should walk. Remember to change your position by adding steps to move to the right and subtracting steps to move to the left.\n",
        "\n",
        "Ensure that you don’t go past the left or right wall—this is called “clamping” a variable."
      ]
    },
    {
      "cell_type": "code",
      "metadata": {
        "colab": {
          "base_uri": "https://localhost:8080/"
        },
        "id": "gLFgAtynBorm",
        "outputId": "bfa0cf1e-cc2d-4cfc-8357-8c81a6b9049c"
      },
      "source": [
        "# Here we will have to practice using conditional statements also.\n",
        "# We have already written code to set the random number of steps taken to the\n",
        "# left or right \n",
        "steps_right = \"get_steps()\"\n",
        "steps_left = \"get_steps()\"\n",
        "# For debugging you can set and change these values to check your conditions\n",
        "# without coin flips. Can you figure out how to change these to test\n",
        "# all the possible cases in your code that may occur?\n",
        "#position = 50\n",
        "#is_head1 = True\n",
        "#is_head2 = True\n",
        "#steps_right = 30\n",
        "#steps_left = 20\n",
        "\n",
        "print('Your possible steps right are',  'get_steps(53)', 'or', 2*'get_steps(82)')\n",
        "print('Your possible steps left are',  'get_steps(24)', 'or', 2*'get_steps(49)')\n",
        "\n",
        "# If both coin tosses were heads:\n",
        "    # move yourself or your robot to the right\n",
        "\n",
        "# But if both coin tosses are tails\n",
        "#  (try to check this using an expression with `not`):\n",
        "    # move yourself or robot to the left\n",
        "\n",
        "\n",
        "# Otherwise:\n",
        "    # If first toss is heads or steps right is greater than steps left:\n",
        "        # move double number of steps right and the number of steps left  \n",
        "if coin1 =='H' or steps_right > steps_left:\n",
        "  steps_right = 2*steps_right+steps_left\n",
        "  steps_left = position+get_steps()  \n",
        "\n",
        "    # Otherwise:\n",
        "        # move double number of steps left and the number of steps right\n",
        "if coin2 == 'T' or steps_left > steps_right:\n",
        "  steps_left = 2*steps_left+steps_right\n",
        "  steps_right = position+get_steps()\n",
        "\n",
        "# Make sure that your position does not exceed the left wall\n",
        "# or the right wall, just as with the UFO.\n",
        "\n",
        "\n",
        "# If your position is past left wall:\n",
        "    # set it to the left wall\n",
        "\n",
        "\n",
        "# But if your position is past the right wall:\n",
        "    # set it to the right wall\n",
        "  \n"
      ],
      "execution_count": 110,
      "outputs": [
        {
          "output_type": "stream",
          "name": "stdout",
          "text": [
            "Your possible steps right are get_steps(53) or get_steps(82)get_steps(82)\n",
            "Your possible steps left are get_steps(24) or get_steps(49)get_steps(49)\n"
          ]
        }
      ]
    },
    {
      "cell_type": "markdown",
      "metadata": {
        "id": "xOdiKHMYKPNN"
      },
      "source": [
        "## Where are we?\n",
        "In the next cell we print out where we have walked to check. You need only run this cell and see where you are. "
      ]
    },
    {
      "cell_type": "code",
      "metadata": {
        "colab": {
          "base_uri": "https://localhost:8080/"
        },
        "id": "WBO3EEjaKdkz",
        "outputId": "8592d582-52cb-4631-f921-83cd0435a8f0"
      },
      "source": [
        "print('You are at position', 5, 'in the room.')"
      ],
      "execution_count": 113,
      "outputs": [
        {
          "output_type": "stream",
          "name": "stdout",
          "text": [
            "You are at position 5 in the room.\n"
          ]
        }
      ]
    },
    {
      "cell_type": "markdown",
      "metadata": {
        "id": "dKL0LYd-E4JB"
      },
      "source": [
        "### Reflections\n",
        "Add a text cell below to answer the following questions:\n",
        "1. What do you feel more confident about after completing this lab?\n",
        "\n",
        "  I feel more confident about knowing the true or false of a coin flip after   completing this lab. \n",
        "2. What do you feel you can use more help with after completing this lab?\n",
        "\n",
        "  I feel like I could use more help in defining position and creating a better coding automatic instead of typing the numbers manually. \n",
        "3. Do you have any constructive suggestions on how we can help you or improve this lab?\n",
        "\n",
        "  I would have to say going to office hours, paying extra close attention, or asking one of my classmate to clarify my situation because since this is the first time working on programming; my head begins to hurt or go somewhere else. "
      ]
    },
    {
      "cell_type": "markdown",
      "metadata": {
        "id": "gB1aHDpyFYey"
      },
      "source": [
        "### Save your work to GitHub\n",
        "Please save this notebook to your lab repository."
      ]
    }
  ]
}