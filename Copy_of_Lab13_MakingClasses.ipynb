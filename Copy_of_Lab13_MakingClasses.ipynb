{
  "nbformat": 4,
  "nbformat_minor": 0,
  "metadata": {
    "colab": {
      "name": "Copy of Lab13_MakingClasses.ipynb",
      "provenance": [],
      "collapsed_sections": [],
      "include_colab_link": true
    },
    "kernelspec": {
      "name": "python3",
      "display_name": "Python 3"
    },
    "language_info": {
      "name": "python"
    }
  },
  "cells": [
    {
      "cell_type": "markdown",
      "metadata": {
        "id": "view-in-github",
        "colab_type": "text"
      },
      "source": [
        "<a href=\"https://colab.research.google.com/github/oparamo81/lab-notebook-originals/blob/main/Copy_of_Lab13_MakingClasses.ipynb\" target=\"_parent\"><img src=\"https://colab.research.google.com/assets/colab-badge.svg\" alt=\"Open In Colab\"/></a>"
      ]
    },
    {
      "cell_type": "markdown",
      "metadata": {
        "id": "buuJhZMMNQoW"
      },
      "source": [
        "\n",
        "# Making classes\n",
        "In this lab you will complete the dog class from the slides and create a class for a person to be the owner of the dog. You will also create a class for complex numbers."
      ]
    },
    {
      "cell_type": "markdown",
      "metadata": {
        "id": "cFmY8Nj8OVf4"
      },
      "source": [
        "## Dog Class from the Slides\n",
        "In the following cell we have included that `Dog` class from the slides. To this class add a method called `exercise` that will subtract the given `amount` from the weight of the dog (i.e., it is the opposite of `eat`—if only it were that simple in real life!). Once you have completed this code, run this cell even though you will not see output yet."
      ]
    },
    {
      "cell_type": "code",
      "metadata": {
        "id": "2H9KiTyoNPR3"
      },
      "source": [
        "class Dog():\n",
        "    \"\"\"The Dog has a name, weight, and breed. It can eat or exercise.\"\"\"\n",
        "     \n",
        "    # Constructor as given in slides\n",
        "    def __init__(self, name, weight, breed):\n",
        "        self.name = name\n",
        "        self.weight = weight\n",
        "        self.breed = breed\n",
        "\n",
        "    # Method for the dog to eat given in slides\n",
        "    # Notice that the weight of the dog increases\n",
        "    # by the amount fed    \n",
        "    def eat(self, amount):\n",
        "        self.weight += amount\n",
        "\n",
        "    # Write a method called exercise\n",
        "    # that takes an amount and decreases the\n",
        "    # dog's weight by that amount\n",
        "    # TO DO: ADD METHOD EXERCISE BELOW\n",
        "    def excercise(self,amount):\n",
        "      self.excercise += amount\n",
        "      self.dog.exercise(self.weight)"
      ],
      "execution_count": 1,
      "outputs": []
    },
    {
      "cell_type": "markdown",
      "metadata": {
        "id": "vrccqrkTOYZ3"
      },
      "source": [
        "## Person Class for Owners\n",
        "In the following cell you will complete the constructor for the `Person` class for dog owners. Each person has a `name`, a `dog`, and a `generosity` level. The `generosity` level is a value between 0 and 1 (inclusive) that is the amount of a pound of food that owners feed their dogs. You will also complete the `feed_dog` method for the `Person`. This method will feed the owners' dogs the amount of their generosity. Once you have completed this code, run this cell even though you will see not output yet.\n"
      ]
    },
    {
      "cell_type": "code",
      "metadata": {
        "id": "E3sTGBcCNtU7"
      },
      "source": [
        "class Person(object):\n",
        "    \"\"\"The Person has a name, a Dog, and a generosity. It can feed its Dog.\"\"\"\n",
        "\n",
        "    # TO DO: Complete the constructor the the Person below\n",
        "    # Be sure to save each input parameter except\n",
        "    # self as an attribute\n",
        "    def __init__(self, name, dog, generosity):\n",
        "        pass\n",
        "        self.name = name\n",
        "        self.dog = dog\n",
        "        self.generosity = generosity\n",
        "    # TO DO: Complete the following feed_dog method\n",
        "    # the amount of food that people\n",
        "    # feed their dogs are their generosity \n",
        "    def feed_dog(self):\n",
        "        pass\n",
        "        self.dog.eat(self.generosity)"
      ],
      "execution_count": 3,
      "outputs": []
    },
    {
      "cell_type": "markdown",
      "metadata": {
        "id": "hTC8Hx3aVlNu"
      },
      "source": [
        "## Testing the Dog and Person Classes\n",
        "\n",
        "The following code can be run to test your implementations of the `Dog` and `Person` classes. The comments indicate the desired results. You can change this cell to test your code."
      ]
    },
    {
      "cell_type": "code",
      "metadata": {
        "id": "h6zqeDnpG6tv",
        "colab": {
          "base_uri": "https://localhost:8080/"
        },
        "outputId": "8c93bcd5-eeb7-4952-b9e8-74f02facdc5c"
      },
      "source": [
        "\n",
        "# Create a Person object with name Gregory\n",
        "# Gregory owns a Border Terrier named Hickory.\n",
        "# Gregory's generosity is 0.1.\n",
        "Dogg = Dog('Hickory',15.2,'Border Terrier')\n",
        "Guy = Person('Gregory',Dogg,0.1)\n",
        "#  - The dog parameter for creating the Person object for Gregory\n",
        "#    will be the Dog object that is created for Hickory.\n",
        "#\n",
        "#  - The generosity is a floating point number such that 0 ≤ generosity ≤ 1\n",
        "#\n",
        "owner = Guy # TO DO: Instantiate the owner and dog!\n",
        "\n",
        "print(owner.name + ' owns a ' + owner.dog.breed + ' named ' + owner.dog.name)\n",
        "print(owner.dog.name + ' weighs ' + format(owner.dog.weight, 'f') + ' lbs.')\n",
        "# Should be 'Gregory owns a Border Terrier named Hickory'\n",
        "#           'Hickory weighs 15.200000 lbs.'\n",
        "\n",
        "# Gregory feeds Hickory.\n",
        "# TO DO: Make Gregory feed Hickory.\n",
        "print('After eating ' + owner.dog.name + ' weighs ' \\\n",
        "      + format(owner.dog.weight,'f') + ' lbs.')\n",
        "# Should be 'After eating Hickory weighs 15.300000 lbs.'"
      ],
      "execution_count": 6,
      "outputs": [
        {
          "output_type": "stream",
          "name": "stdout",
          "text": [
            "Gregory owns a Border Terrier named Hickory\n",
            "Hickory weighs 15.200000 lbs.\n",
            "After eating Hickory weighs 15.200000 lbs.\n"
          ]
        }
      ]
    },
    {
      "cell_type": "markdown",
      "metadata": {
        "id": "Hkgc6XVvFKhb"
      },
      "source": [
        "## Complex Numbers Class\n",
        "Complex numbers, as you have seen, in other mathematics class have a *real* part and an *imaginary* part. The *imaginary* part is multiplied by *i*, the square root of negative one. A complex number can be written **a + bi** where **a** is the real part and **b** is the imaginary part. In the following cell complete the `Complex` class. "
      ]
    },
    {
      "cell_type": "code",
      "metadata": {
        "id": "OMEImNy_f_bX",
        "colab": {
          "base_uri": "https://localhost:8080/"
        },
        "outputId": "712582f0-97b3-4fcb-b61e-5b52fe0ad290"
      },
      "source": [
        "class Complex(object):\n",
        "    \"\"\"A complex number has a real and imaginary part.\"\"\"\n",
        "\n",
        "    # TO DO: Complete the constructor; save each input parameter except\n",
        "    # self as an attribute\n",
        "    def __init__(self, real, imaginary):\n",
        "        pass\n",
        "        self.real = real\n",
        "        self.imaginary = imaginary\n",
        "    # TO DO: Complete the method real to return the real part of\n",
        "    # of the Complex number\n",
        "    def real_part(self):\n",
        "        pass\n",
        "        return self.real\n",
        "    # TO DO: Complete the method imaginary to return the imaginary part of\n",
        "    # of the Complex number\n",
        "    def imaginary_part(self):\n",
        "        pass\n",
        "        return self.imaginary\n",
        "    # TO DO: Complete the method add to the calling complex number\n",
        "    # to the argument complex number and RETURN A NEW COMPLEX\n",
        "    # NUMBER THAT IS THEIR SUM.\n",
        "    def add(self, other):\n",
        "        pass\n",
        "        real_sum = self.real + other.real\n",
        "        imaginary_sum = self.imaginary + other.imaginary\n",
        "        return Complex(real_sum,imaginary_sum)\n",
        "\n",
        "    # This method is given to you to turn a Complex object\n",
        "    # into a string. Please do not change this function.\n",
        "    # It permits you to print a Complex number in the format\n",
        "    # a+bi where a is the real part and b is the imaginary part.\n",
        "    def __str__(self):\n",
        "        output = str(self.real) + ' + ' + str(self.imaginary) + 'i'\n",
        "        return output\n",
        "\n",
        "\n",
        "# Feel free to add to this code in order to test your implementation further.\n",
        "x = Complex(3, 4)\n",
        "print('x is ' + str(x)) # Should print 3 + 4i\n",
        "\n",
        "y = Complex(7, 10)\n",
        "print('y is ' + str(y)) # Should print 7 + 10i\n",
        "\n",
        "sum = x.add(y)\n",
        "print('sum is ' + str(sum)) # Should print 10 + 14i"
      ],
      "execution_count": 9,
      "outputs": [
        {
          "output_type": "stream",
          "name": "stdout",
          "text": [
            "x is 3 + 4i\n",
            "y is 7 + 10i\n",
            "sum is 10 + 14i\n"
          ]
        }
      ]
    },
    {
      "cell_type": "markdown",
      "metadata": {
        "id": "WG9zMdCjI_fS"
      },
      "source": [
        "### Reflections\n",
        "Add a text cell below to answer the following questions:\n",
        "1. What do you feel more confident about after completing this lab?\n",
        "\n",
        "  I feel more confident about coding with self. after completing this lab and watch the videos from class recordings.\n",
        "2. What do you feel you can use more help with after completing this lab?\n",
        "\n",
        "  I feel that I can use a bit help with Testing the Dog and Person Classes and complex numbers after completing this lab.\n",
        "3. Do you have any constructive suggestions on how we can help you or improve this lab?\n",
        "\n",
        "  Some suggestions on how Dr. Dionisio and TAs can help me to improve in this lab is by asking clarifying question, going to office hours or emailing/ texting them. "
      ]
    },
    {
      "cell_type": "markdown",
      "metadata": {
        "id": "0KQcA7o9JK7f"
      },
      "source": [
        "### Save your work to GitHub\n",
        "Please save this notebook to your lab repository.\n"
      ]
    }
  ]
}