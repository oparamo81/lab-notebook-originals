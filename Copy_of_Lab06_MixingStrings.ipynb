{
  "nbformat": 4,
  "nbformat_minor": 0,
  "metadata": {
    "kernelspec": {
      "display_name": "Python 3",
      "language": "python",
      "name": "python3"
    },
    "language_info": {
      "codemirror_mode": {
        "name": "ipython",
        "version": 3
      },
      "file_extension": ".py",
      "mimetype": "text/x-python",
      "name": "python",
      "nbconvert_exporter": "python",
      "pygments_lexer": "ipython3",
      "version": "3.7.3"
    },
    "colab": {
      "name": "Copy of Lab06_MixingStrings.ipynb",
      "provenance": [],
      "collapsed_sections": [],
      "include_colab_link": true
    }
  },
  "cells": [
    {
      "cell_type": "markdown",
      "metadata": {
        "id": "view-in-github",
        "colab_type": "text"
      },
      "source": [
        "<a href=\"https://colab.research.google.com/github/oparamo81/lab-notebook-originals/blob/main/Copy_of_Lab06_MixingStrings.ipynb\" target=\"_parent\"><img src=\"https://colab.research.google.com/assets/colab-badge.svg\" alt=\"Open In Colab\"/></a>"
      ]
    },
    {
      "cell_type": "markdown",
      "metadata": {
        "id": "9aXfrLXg9seM"
      },
      "source": [
        "# Lab 06 Mixing Strings\n",
        "In this lab you will practice working with strings and using loops with strings.\n",
        "\n",
        "## Warmup: Character counter\n",
        "\n",
        "In the following cell, complete the function `count_character` that, given a string and character, returns the number of occurrences of the character in the string. Right now, it just returns 0. We have some code to test your function and you can add more calls to test it.\n",
        "\n"
      ]
    },
    {
      "cell_type": "code",
      "metadata": {
        "id": "Rt0kFDWS9RJU",
        "colab": {
          "base_uri": "https://localhost:8080/"
        },
        "outputId": "0a9efbd9-3090-45fa-b855-d3ed395cba42"
      },
      "source": [
        "# count_character is given a string s and a character c and returns the number\n",
        "# of occurrences of c in s\n",
        "def count_character(s, c):\n",
        "  for count_character in s: \n",
        "    if count_character == c:\n",
        "        counter = 0\n",
        "        counter = counter +1 \n",
        "        print(c)\n",
        "\n",
        "# Debugging function calls. You can add more or change\n",
        "# The following should return 3\n",
        "char_count = count_character('banana', 'a')\n",
        "print(char_count)\n",
        "\n",
        "# The following call should return 4\n",
        "char_count = count_character('mississippi', 's')\n",
        "print(char_count) "
      ],
      "execution_count": 1,
      "outputs": [
        {
          "output_type": "stream",
          "name": "stdout",
          "text": [
            "a\n",
            "a\n",
            "a\n",
            "None\n",
            "s\n",
            "s\n",
            "s\n",
            "s\n",
            "None\n"
          ]
        }
      ]
    },
    {
      "cell_type": "markdown",
      "metadata": {
        "id": "y2c-tRWA91fr"
      },
      "source": [
        "## Repeating Strings\n",
        "Python gives you an operator to make multiple copies of a string. However, below we want you to complete this function to return a string `s` repeated `n` times _using a loop_ instead. You can test your code by running the code we have provided and creating your own function calls."
      ]
    },
    {
      "cell_type": "code",
      "metadata": {
        "id": "NMcvm3E4-sl_",
        "colab": {
          "base_uri": "https://localhost:8080/"
        },
        "outputId": "cf0ee2d6-2cf4-4dad-db96-eab3693572e2"
      },
      "source": [
        "# repeat_string is given the string s and returns a string that is n copies\n",
        "# of it.\n",
        "def repeat_string(s, n):\n",
        "    out = ''\n",
        "    return out\n",
        "\n",
        "print(repeat_string('hello', 3))\n"
      ],
      "execution_count": 2,
      "outputs": [
        {
          "output_type": "stream",
          "name": "stdout",
          "text": [
            "\n"
          ]
        }
      ]
    },
    {
      "cell_type": "markdown",
      "metadata": {
        "id": "zXC7orYI_T3E"
      },
      "source": [
        "## Mixing names\n",
        "In the following cell you will write a program that will prompt a user for two names. The user should enter a first name and last name separated by a space.\n",
        "You will have to figure out how to parse the first name and last name from the name input by the user. Then you will mix the two names up and output the new mixed names."
      ]
    },
    {
      "cell_type": "code",
      "metadata": {
        "id": "fpq9XjRC_TJG",
        "colab": {
          "base_uri": "https://localhost:8080/"
        },
        "outputId": "a18481c5-ee31-4abe-d7a9-fd2a00564d58"
      },
      "source": [
        "name1 = input('Please enter a FIRST NAME followed by a LAST NAME separated by a space:')\n",
        "name2 = input('Please enter another FIRST NAME followed by a LAST NAME separated by a space:')\n",
        "\n",
        "# Now parse the user input to find the first names and last names\n",
        "# Right now you have strings containing both, so find the space first\n",
        "# and save the first name substrings and the last name substrings in separate variables\n",
        "# If you prefer, you can also use split() to separate the first and last names\n",
        "name1 = name1.split(',')\n",
        "V = 'Morty'\n",
        "W = 'Fields'\n",
        "for points in name1:  \n",
        "  print(V,W)\n",
        "\n",
        "name2 = name2.split('-')\n",
        "X = 'Sam'\n",
        "Y = 'Magnum'\n",
        "for points in name2:\n",
        "  print(X,Y)\n",
        "# In order to mix up the strings you need to find the midpoint of each name\n",
        "# Challenge: How could you split strings at random points instead?\n",
        "\n",
        "\n",
        "# Get the substrings for the first halves and second halves of each name\n",
        "# You want to combine the names to create 2 new first and last names\n",
        "# Make sure the capitalization is correct\n",
        "# Use capitalize() to capitalize and lower() to make all lowercase\n",
        "# Combine the first half of the first first name and the second half of the second\n",
        "# first name to create a new first name\n",
        "new_first_name1 = (V[:5:])\n",
        "\n",
        "\n",
        "# Combine the first half of the first last name and the second half of the second\n",
        "# last name to create a new last name\n",
        "new_last_name1 = (Y[:6:])\n",
        "\n",
        "# Combine the first half of the second first name and the second half of the first\n",
        "# first name to create a new first name\n",
        "\n",
        "new_first_name2 = (X[:3:])\n",
        "# Combine the first half of the second last name and the second half of the first\n",
        "# last name to create a new last name\n",
        "new_last_name2 = (W[:6:])\n",
        "\n",
        "# print out both new names\n",
        "# you do not need to change the following code.\n",
        "print('Here are the new mixed up names:')\n",
        "print(new_first_name1, new_last_name1)\n",
        "print(new_first_name2, new_last_name2)\n",
        "\n",
        "\n"
      ],
      "execution_count": 3,
      "outputs": [
        {
          "output_type": "stream",
          "name": "stdout",
          "text": [
            "Please enter a FIRST NAME followed by a LAST NAME separated by a space:Morty Fields \n",
            "Please enter another FIRST NAME followed by a LAST NAME separated by a space:Sam Magnum \n",
            "Morty Fields\n",
            "Sam Magnum\n",
            "Here are the new mixed up names:\n",
            "Morty Magnum\n",
            "Sam Fields\n"
          ]
        }
      ]
    },
    {
      "cell_type": "markdown",
      "metadata": {
        "id": "dKL0LYd-E4JB"
      },
      "source": [
        "### Reflections\n",
        "Add a text cell below to answer the following questions:\n",
        "1. What do you feel more confident about after completing this lab?\n",
        "\n",
        "  I feel more confident about counting the number of letters, using the varibles to equal a name and constructing a new name after completing this lab. \n",
        "2. What do you feel you can use more help with after completing this lab?\n",
        "\n",
        "  I feel like I still use more help in adding the split because I have the mixed names; I am just missing the paratheses and comma. \n",
        "3. Do you have any constructive suggestions on how we can help you or improve this lab?\n",
        "\n",
        "  I would have to say going to office or TA hours, paying extra close attention such as taking notes, or asking one of my classmate to clarify my situation ( very helpful)."
      ]
    },
    {
      "cell_type": "markdown",
      "metadata": {
        "id": "gB1aHDpyFYey"
      },
      "source": [
        "### Save your work to GitHub\n",
        "Please save this notebook to your lab repository."
      ]
    }
  ]
}